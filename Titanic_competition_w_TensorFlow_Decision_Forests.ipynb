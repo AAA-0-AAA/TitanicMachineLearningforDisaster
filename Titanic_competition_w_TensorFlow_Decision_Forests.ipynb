{
  "metadata": {
    "kernelspec": {
      "language": "python",
      "display_name": "Python 3",
      "name": "python3"
    },
    "language_info": {
      "name": "python",
      "version": "3.10.14",
      "mimetype": "text/x-python",
      "codemirror_mode": {
        "name": "ipython",
        "version": 3
      },
      "pygments_lexer": "ipython3",
      "nbconvert_exporter": "python",
      "file_extension": ".py"
    },
    "kaggle": {
      "accelerator": "none",
      "dataSources": [
        {
          "sourceId": 5177367,
          "sourceType": "datasetVersion",
          "datasetId": 3009765
        },
        {
          "sourceId": 10695,
          "sourceType": "datasetVersion",
          "datasetId": 7519
        }
      ],
      "dockerImageVersionId": 30786,
      "isInternetEnabled": false,
      "language": "python",
      "sourceType": "notebook",
      "isGpuEnabled": false
    },
    "colab": {
      "name": "Titanic competition w/ TensorFlow Decision Forests",
      "provenance": [],
      "include_colab_link": true
    }
  },
  "nbformat_minor": 0,
  "nbformat": 4,
  "cells": [
    {
      "cell_type": "markdown",
      "metadata": {
        "id": "view-in-github",
        "colab_type": "text"
      },
      "source": [
        "<a href=\"https://colab.research.google.com/github/AAA-0-AAA/TitanicMachineLearningforDisaster/blob/main/Titanic_competition_w_TensorFlow_Decision_Forests.ipynb\" target=\"_parent\"><img src=\"https://colab.research.google.com/assets/colab-badge.svg\" alt=\"Open In Colab\"/></a>"
      ]
    },
    {
      "source": [
        "# IMPORTANT: RUN THIS CELL IN ORDER TO IMPORT YOUR KAGGLE DATA SOURCES,\n",
        "# THEN FEEL FREE TO DELETE THIS CELL.\n",
        "# NOTE: THIS NOTEBOOK ENVIRONMENT DIFFERS FROM KAGGLE'S PYTHON\n",
        "# ENVIRONMENT SO THERE MAY BE MISSING LIBRARIES USED BY YOUR\n",
        "# NOTEBOOK.\n",
        "import kagglehub\n",
        "video1243_titanic_path = kagglehub.dataset_download('video1243/titanic')\n",
        "qiqiqi7_11117_path = kagglehub.dataset_download('qiqiqi7/11117')\n",
        "\n",
        "print('Data source import complete.')\n"
      ],
      "metadata": {
        "id": "7KeFnU5ztwSa"
      },
      "cell_type": "code",
      "outputs": [],
      "execution_count": null
    },
    {
      "cell_type": "code",
      "source": [
        "import numpy as np\n",
        "import pandas as pd\n",
        "import os\n",
        "\n",
        "import tensorflow as tf\n",
        "import tensorflow_decision_forests as tfdf\n",
        "\n",
        "print(f\"Found TF-DF {tfdf.__version__}\")# This Python 3 environment comes with many helpful analytics libraries installed\n",
        "# It is defined by the kaggle/python Docker image: https://github.com/kaggle/docker-python\n",
        "# For example, here's several helpful packages to load\n",
        "\n",
        "import numpy as np # linear algebra\n",
        "import pandas as pd # data processing, CSV file I/O (e.g. pd.read_csv)\n",
        "\n",
        "# Input data files are available in the read-only \"../input/\" directory\n",
        "# For example, running this (by clicking run or pressing Shift+Enter) will list all files under the input directory\n",
        "\n",
        "import os\n",
        "for dirname, _, filenames in os.walk('/kaggle/input'):\n",
        "    for filename in filenames:\n",
        "        print(os.path.join(dirname, filename))\n",
        "\n",
        "# You can write up to 20GB to the current directory (/kaggle/working/) that gets preserved as output when you create a version using \"Save & Run All\"\n",
        "# You can also write temporary files to /kaggle/temp/, but they won't be saved outside of the current session"
      ],
      "metadata": {
        "_uuid": "8f2839f25d086af736a60e9eeb907d3b93b6e0e5",
        "_cell_guid": "b1076dfc-b9ad-4769-8c92-a6c4dae69d19",
        "execution": {
          "iopub.status.busy": "2024-10-30T13:35:41.213404Z",
          "iopub.execute_input": "2024-10-30T13:35:41.213854Z",
          "iopub.status.idle": "2024-10-30T13:35:57.629524Z",
          "shell.execute_reply.started": "2024-10-30T13:35:41.213792Z",
          "shell.execute_reply": "2024-10-30T13:35:57.6284Z"
        },
        "trusted": true,
        "id": "jYSy2P3mtwSb",
        "outputId": "eed1f635-7e8c-4fc8-9d16-5b21b5a6f467"
      },
      "execution_count": null,
      "outputs": [
        {
          "name": "stdout",
          "text": "Found TF-DF 1.9.1\n/kaggle/input/11117/train.csv\n/kaggle/input/11117/test.csv\n/kaggle/input/11117/gender_submission.csv\n/kaggle/input/titanic/test.csv\n",
          "output_type": "stream"
        }
      ]
    },
    {
      "cell_type": "code",
      "source": [
        "train_df = pd.read_csv(\"/kaggle/input/11117/train.csv\")\n",
        "serving_df = pd.read_csv(\"/kaggle/input/11117/test.csv\")\n",
        "\n",
        "train_df.head(10)"
      ],
      "metadata": {
        "execution": {
          "iopub.status.busy": "2024-10-30T13:36:27.668633Z",
          "iopub.execute_input": "2024-10-30T13:36:27.669391Z",
          "iopub.status.idle": "2024-10-30T13:36:27.727431Z",
          "shell.execute_reply.started": "2024-10-30T13:36:27.669348Z",
          "shell.execute_reply": "2024-10-30T13:36:27.726298Z"
        },
        "trusted": true,
        "id": "khjcDT2jtwSd",
        "outputId": "61624fb3-85b3-479d-920f-b6854efc6b0c"
      },
      "execution_count": null,
      "outputs": [
        {
          "execution_count": 2,
          "output_type": "execute_result",
          "data": {
            "text/plain": "   PassengerId  Survived  Pclass  \\\n0            1         0       3   \n1            2         1       1   \n2            3         1       3   \n3            4         1       1   \n4            5         0       3   \n5            6         0       3   \n6            7         0       1   \n7            8         0       3   \n8            9         1       3   \n9           10         1       2   \n\n                                                Name     Sex   Age  SibSp  \\\n0                            Braund, Mr. Owen Harris    male  22.0      1   \n1  Cumings, Mrs. John Bradley (Florence Briggs Th...  female  38.0      1   \n2                             Heikkinen, Miss. Laina  female  26.0      0   \n3       Futrelle, Mrs. Jacques Heath (Lily May Peel)  female  35.0      1   \n4                           Allen, Mr. William Henry    male  35.0      0   \n5                                   Moran, Mr. James    male   NaN      0   \n6                            McCarthy, Mr. Timothy J    male  54.0      0   \n7                     Palsson, Master. Gosta Leonard    male   2.0      3   \n8  Johnson, Mrs. Oscar W (Elisabeth Vilhelmina Berg)  female  27.0      0   \n9                Nasser, Mrs. Nicholas (Adele Achem)  female  14.0      1   \n\n   Parch            Ticket     Fare Cabin Embarked  \n0      0         A/5 21171   7.2500   NaN        S  \n1      0          PC 17599  71.2833   C85        C  \n2      0  STON/O2. 3101282   7.9250   NaN        S  \n3      0            113803  53.1000  C123        S  \n4      0            373450   8.0500   NaN        S  \n5      0            330877   8.4583   NaN        Q  \n6      0             17463  51.8625   E46        S  \n7      1            349909  21.0750   NaN        S  \n8      2            347742  11.1333   NaN        S  \n9      0            237736  30.0708   NaN        C  ",
            "text/html": "<div>\n<style scoped>\n    .dataframe tbody tr th:only-of-type {\n        vertical-align: middle;\n    }\n\n    .dataframe tbody tr th {\n        vertical-align: top;\n    }\n\n    .dataframe thead th {\n        text-align: right;\n    }\n</style>\n<table border=\"1\" class=\"dataframe\">\n  <thead>\n    <tr style=\"text-align: right;\">\n      <th></th>\n      <th>PassengerId</th>\n      <th>Survived</th>\n      <th>Pclass</th>\n      <th>Name</th>\n      <th>Sex</th>\n      <th>Age</th>\n      <th>SibSp</th>\n      <th>Parch</th>\n      <th>Ticket</th>\n      <th>Fare</th>\n      <th>Cabin</th>\n      <th>Embarked</th>\n    </tr>\n  </thead>\n  <tbody>\n    <tr>\n      <th>0</th>\n      <td>1</td>\n      <td>0</td>\n      <td>3</td>\n      <td>Braund, Mr. Owen Harris</td>\n      <td>male</td>\n      <td>22.0</td>\n      <td>1</td>\n      <td>0</td>\n      <td>A/5 21171</td>\n      <td>7.2500</td>\n      <td>NaN</td>\n      <td>S</td>\n    </tr>\n    <tr>\n      <th>1</th>\n      <td>2</td>\n      <td>1</td>\n      <td>1</td>\n      <td>Cumings, Mrs. John Bradley (Florence Briggs Th...</td>\n      <td>female</td>\n      <td>38.0</td>\n      <td>1</td>\n      <td>0</td>\n      <td>PC 17599</td>\n      <td>71.2833</td>\n      <td>C85</td>\n      <td>C</td>\n    </tr>\n    <tr>\n      <th>2</th>\n      <td>3</td>\n      <td>1</td>\n      <td>3</td>\n      <td>Heikkinen, Miss. Laina</td>\n      <td>female</td>\n      <td>26.0</td>\n      <td>0</td>\n      <td>0</td>\n      <td>STON/O2. 3101282</td>\n      <td>7.9250</td>\n      <td>NaN</td>\n      <td>S</td>\n    </tr>\n    <tr>\n      <th>3</th>\n      <td>4</td>\n      <td>1</td>\n      <td>1</td>\n      <td>Futrelle, Mrs. Jacques Heath (Lily May Peel)</td>\n      <td>female</td>\n      <td>35.0</td>\n      <td>1</td>\n      <td>0</td>\n      <td>113803</td>\n      <td>53.1000</td>\n      <td>C123</td>\n      <td>S</td>\n    </tr>\n    <tr>\n      <th>4</th>\n      <td>5</td>\n      <td>0</td>\n      <td>3</td>\n      <td>Allen, Mr. William Henry</td>\n      <td>male</td>\n      <td>35.0</td>\n      <td>0</td>\n      <td>0</td>\n      <td>373450</td>\n      <td>8.0500</td>\n      <td>NaN</td>\n      <td>S</td>\n    </tr>\n    <tr>\n      <th>5</th>\n      <td>6</td>\n      <td>0</td>\n      <td>3</td>\n      <td>Moran, Mr. James</td>\n      <td>male</td>\n      <td>NaN</td>\n      <td>0</td>\n      <td>0</td>\n      <td>330877</td>\n      <td>8.4583</td>\n      <td>NaN</td>\n      <td>Q</td>\n    </tr>\n    <tr>\n      <th>6</th>\n      <td>7</td>\n      <td>0</td>\n      <td>1</td>\n      <td>McCarthy, Mr. Timothy J</td>\n      <td>male</td>\n      <td>54.0</td>\n      <td>0</td>\n      <td>0</td>\n      <td>17463</td>\n      <td>51.8625</td>\n      <td>E46</td>\n      <td>S</td>\n    </tr>\n    <tr>\n      <th>7</th>\n      <td>8</td>\n      <td>0</td>\n      <td>3</td>\n      <td>Palsson, Master. Gosta Leonard</td>\n      <td>male</td>\n      <td>2.0</td>\n      <td>3</td>\n      <td>1</td>\n      <td>349909</td>\n      <td>21.0750</td>\n      <td>NaN</td>\n      <td>S</td>\n    </tr>\n    <tr>\n      <th>8</th>\n      <td>9</td>\n      <td>1</td>\n      <td>3</td>\n      <td>Johnson, Mrs. Oscar W (Elisabeth Vilhelmina Berg)</td>\n      <td>female</td>\n      <td>27.0</td>\n      <td>0</td>\n      <td>2</td>\n      <td>347742</td>\n      <td>11.1333</td>\n      <td>NaN</td>\n      <td>S</td>\n    </tr>\n    <tr>\n      <th>9</th>\n      <td>10</td>\n      <td>1</td>\n      <td>2</td>\n      <td>Nasser, Mrs. Nicholas (Adele Achem)</td>\n      <td>female</td>\n      <td>14.0</td>\n      <td>1</td>\n      <td>0</td>\n      <td>237736</td>\n      <td>30.0708</td>\n      <td>NaN</td>\n      <td>C</td>\n    </tr>\n  </tbody>\n</table>\n</div>"
          },
          "metadata": {}
        }
      ]
    },
    {
      "cell_type": "code",
      "source": [
        "def preprocess(df):\n",
        "    df = df.copy()\n",
        "\n",
        "    def normalize_name(x):\n",
        "        return \" \".join([v.strip(\",()[].\\\"'\") for v in x.split(\" \")])\n",
        "\n",
        "    def ticket_number(x):\n",
        "        return x.split(\" \")[-1]\n",
        "\n",
        "    def ticket_item(x):\n",
        "        items = x.split(\" \")\n",
        "        if len(items) == 1:\n",
        "            return \"NONE\"\n",
        "        return \"_\".join(items[0:-1])\n",
        "\n",
        "    df[\"Name\"] = df[\"Name\"].apply(normalize_name)\n",
        "    df[\"Ticket_number\"] = df[\"Ticket\"].apply(ticket_number)\n",
        "    df[\"Ticket_item\"] = df[\"Ticket\"].apply(ticket_item)\n",
        "    return df\n",
        "\n",
        "preprocessed_train_df = preprocess(train_df)\n",
        "preprocessed_serving_df = preprocess(serving_df)\n",
        "\n",
        "preprocessed_train_df.head(5)"
      ],
      "metadata": {
        "execution": {
          "iopub.status.busy": "2024-10-30T13:36:41.736709Z",
          "iopub.execute_input": "2024-10-30T13:36:41.737152Z",
          "iopub.status.idle": "2024-10-30T13:36:41.769858Z",
          "shell.execute_reply.started": "2024-10-30T13:36:41.737106Z",
          "shell.execute_reply": "2024-10-30T13:36:41.768792Z"
        },
        "trusted": true,
        "id": "SDq9kajltwSe",
        "outputId": "cca7e875-f873-44f4-bf02-e7304264da46"
      },
      "execution_count": null,
      "outputs": [
        {
          "execution_count": 4,
          "output_type": "execute_result",
          "data": {
            "text/plain": "   PassengerId  Survived  Pclass  \\\n0            1         0       3   \n1            2         1       1   \n2            3         1       3   \n3            4         1       1   \n4            5         0       3   \n\n                                              Name     Sex   Age  SibSp  \\\n0                            Braund Mr Owen Harris    male  22.0      1   \n1  Cumings Mrs John Bradley Florence Briggs Thayer  female  38.0      1   \n2                             Heikkinen Miss Laina  female  26.0      0   \n3         Futrelle Mrs Jacques Heath Lily May Peel  female  35.0      1   \n4                           Allen Mr William Henry    male  35.0      0   \n\n   Parch            Ticket     Fare Cabin Embarked Ticket_number Ticket_item  \n0      0         A/5 21171   7.2500   NaN        S         21171         A/5  \n1      0          PC 17599  71.2833   C85        C         17599          PC  \n2      0  STON/O2. 3101282   7.9250   NaN        S       3101282    STON/O2.  \n3      0            113803  53.1000  C123        S        113803        NONE  \n4      0            373450   8.0500   NaN        S        373450        NONE  ",
            "text/html": "<div>\n<style scoped>\n    .dataframe tbody tr th:only-of-type {\n        vertical-align: middle;\n    }\n\n    .dataframe tbody tr th {\n        vertical-align: top;\n    }\n\n    .dataframe thead th {\n        text-align: right;\n    }\n</style>\n<table border=\"1\" class=\"dataframe\">\n  <thead>\n    <tr style=\"text-align: right;\">\n      <th></th>\n      <th>PassengerId</th>\n      <th>Survived</th>\n      <th>Pclass</th>\n      <th>Name</th>\n      <th>Sex</th>\n      <th>Age</th>\n      <th>SibSp</th>\n      <th>Parch</th>\n      <th>Ticket</th>\n      <th>Fare</th>\n      <th>Cabin</th>\n      <th>Embarked</th>\n      <th>Ticket_number</th>\n      <th>Ticket_item</th>\n    </tr>\n  </thead>\n  <tbody>\n    <tr>\n      <th>0</th>\n      <td>1</td>\n      <td>0</td>\n      <td>3</td>\n      <td>Braund Mr Owen Harris</td>\n      <td>male</td>\n      <td>22.0</td>\n      <td>1</td>\n      <td>0</td>\n      <td>A/5 21171</td>\n      <td>7.2500</td>\n      <td>NaN</td>\n      <td>S</td>\n      <td>21171</td>\n      <td>A/5</td>\n    </tr>\n    <tr>\n      <th>1</th>\n      <td>2</td>\n      <td>1</td>\n      <td>1</td>\n      <td>Cumings Mrs John Bradley Florence Briggs Thayer</td>\n      <td>female</td>\n      <td>38.0</td>\n      <td>1</td>\n      <td>0</td>\n      <td>PC 17599</td>\n      <td>71.2833</td>\n      <td>C85</td>\n      <td>C</td>\n      <td>17599</td>\n      <td>PC</td>\n    </tr>\n    <tr>\n      <th>2</th>\n      <td>3</td>\n      <td>1</td>\n      <td>3</td>\n      <td>Heikkinen Miss Laina</td>\n      <td>female</td>\n      <td>26.0</td>\n      <td>0</td>\n      <td>0</td>\n      <td>STON/O2. 3101282</td>\n      <td>7.9250</td>\n      <td>NaN</td>\n      <td>S</td>\n      <td>3101282</td>\n      <td>STON/O2.</td>\n    </tr>\n    <tr>\n      <th>3</th>\n      <td>4</td>\n      <td>1</td>\n      <td>1</td>\n      <td>Futrelle Mrs Jacques Heath Lily May Peel</td>\n      <td>female</td>\n      <td>35.0</td>\n      <td>1</td>\n      <td>0</td>\n      <td>113803</td>\n      <td>53.1000</td>\n      <td>C123</td>\n      <td>S</td>\n      <td>113803</td>\n      <td>NONE</td>\n    </tr>\n    <tr>\n      <th>4</th>\n      <td>5</td>\n      <td>0</td>\n      <td>3</td>\n      <td>Allen Mr William Henry</td>\n      <td>male</td>\n      <td>35.0</td>\n      <td>0</td>\n      <td>0</td>\n      <td>373450</td>\n      <td>8.0500</td>\n      <td>NaN</td>\n      <td>S</td>\n      <td>373450</td>\n      <td>NONE</td>\n    </tr>\n  </tbody>\n</table>\n</div>"
          },
          "metadata": {}
        }
      ]
    },
    {
      "cell_type": "code",
      "source": [
        "input_features = list(preprocessed_train_df.columns)\n",
        "input_features.remove(\"Ticket\")\n",
        "input_features.remove(\"PassengerId\")\n",
        "input_features.remove(\"Survived\")\n",
        "#input_features.remove(\"Ticket_number\")\n",
        "\n",
        "print(f\"Input features: {input_features}\")"
      ],
      "metadata": {
        "execution": {
          "iopub.status.busy": "2024-10-30T13:36:50.591604Z",
          "iopub.execute_input": "2024-10-30T13:36:50.592055Z",
          "iopub.status.idle": "2024-10-30T13:36:50.599405Z",
          "shell.execute_reply.started": "2024-10-30T13:36:50.592011Z",
          "shell.execute_reply": "2024-10-30T13:36:50.598192Z"
        },
        "trusted": true,
        "id": "Il1ZGMKbtwSf",
        "outputId": "79feb520-90c9-471b-f6cd-604ba0162d35"
      },
      "execution_count": null,
      "outputs": [
        {
          "name": "stdout",
          "text": "Input features: ['Pclass', 'Name', 'Sex', 'Age', 'SibSp', 'Parch', 'Fare', 'Cabin', 'Embarked', 'Ticket_number', 'Ticket_item']\n",
          "output_type": "stream"
        }
      ]
    },
    {
      "cell_type": "code",
      "source": [
        "def tokenize_names(features, labels=None):\n",
        "    \"\"\"Divite the names into tokens. TF-DF can consume text tokens natively.\"\"\"\n",
        "    features[\"Name\"] =  tf.strings.split(features[\"Name\"])\n",
        "    return features, labels\n",
        "\n",
        "train_ds = tfdf.keras.pd_dataframe_to_tf_dataset(preprocessed_train_df,label=\"Survived\").map(tokenize_names)\n",
        "serving_ds = tfdf.keras.pd_dataframe_to_tf_dataset(preprocessed_serving_df).map(tokenize_names)"
      ],
      "metadata": {
        "execution": {
          "iopub.status.busy": "2024-10-30T13:36:57.475885Z",
          "iopub.execute_input": "2024-10-30T13:36:57.476325Z",
          "iopub.status.idle": "2024-10-30T13:36:57.946759Z",
          "shell.execute_reply.started": "2024-10-30T13:36:57.476281Z",
          "shell.execute_reply": "2024-10-30T13:36:57.945821Z"
        },
        "trusted": true,
        "id": "mLBinY7ptwSh"
      },
      "execution_count": null,
      "outputs": []
    },
    {
      "cell_type": "code",
      "source": [
        "model = tfdf.keras.GradientBoostedTreesModel(\n",
        "    verbose=0, # Very few logs\n",
        "    features=[tfdf.keras.FeatureUsage(name=n) for n in input_features],\n",
        "    exclude_non_specified_features=True, # Only use the features in \"features\"\n",
        "    random_seed=1234,\n",
        ")\n",
        "model.fit(train_ds)\n",
        "\n",
        "self_evaluation = model.make_inspector().evaluation()\n",
        "print(f\"Accuracy: {self_evaluation.accuracy} Loss:{self_evaluation.loss}\")"
      ],
      "metadata": {
        "execution": {
          "iopub.status.busy": "2024-10-30T13:37:05.998949Z",
          "iopub.execute_input": "2024-10-30T13:37:05.999394Z",
          "iopub.status.idle": "2024-10-30T13:37:21.461138Z",
          "shell.execute_reply.started": "2024-10-30T13:37:05.99935Z",
          "shell.execute_reply": "2024-10-30T13:37:21.460062Z"
        },
        "trusted": true,
        "id": "ClWm1OzAtwSh",
        "outputId": "ea8de5a5-526c-46fd-cd89-5d0233a102a8"
      },
      "execution_count": null,
      "outputs": [
        {
          "name": "stderr",
          "text": "[WARNING 24-10-30 13:37:06.0472 UTC gradient_boosted_trees.cc:1840] \"goss_alpha\" set but \"sampling_method\" not equal to \"GOSS\".\n[WARNING 24-10-30 13:37:06.0481 UTC gradient_boosted_trees.cc:1851] \"goss_beta\" set but \"sampling_method\" not equal to \"GOSS\".\n[WARNING 24-10-30 13:37:06.0481 UTC gradient_boosted_trees.cc:1865] \"selective_gradient_boosting_ratio\" set but \"sampling_method\" not equal to \"SELGB\".\n[INFO 24-10-30 13:37:13.2671 UTC kernel.cc:1233] Loading model from path /tmp/tmpswcizo2y/model/ with prefix c970a88310ef41dc\n[INFO 24-10-30 13:37:13.2748 UTC quick_scorer_extended.cc:911] The binary was compiled without AVX2 support, but your CPU supports it. Enable it for faster model inference.\n[INFO 24-10-30 13:37:13.2754 UTC abstract_model.cc:1362] Engine \"GradientBoostedTreesQuickScorerExtended\" built\n[INFO 24-10-30 13:37:13.2754 UTC kernel.cc:1061] Use fast generic engine\n",
          "output_type": "stream"
        },
        {
          "name": "stdout",
          "text": "Accuracy: 0.8260869383811951 Loss:0.8608942627906799\n",
          "output_type": "stream"
        }
      ]
    },
    {
      "cell_type": "code",
      "source": [
        "model = tfdf.keras.GradientBoostedTreesModel(\n",
        "    verbose=0, # Very few logs\n",
        "    features=[tfdf.keras.FeatureUsage(name=n) for n in input_features],\n",
        "    exclude_non_specified_features=True, # Only use the features in \"features\"\n",
        "\n",
        "    #num_trees=2000,\n",
        "\n",
        "    # Only for GBT.\n",
        "    # A bit slower, but great to understand the model.\n",
        "    # compute_permutation_variable_importance=True,\n",
        "\n",
        "    # Change the default hyper-parameters\n",
        "    # hyperparameter_template=\"benchmark_rank1@v1\",\n",
        "\n",
        "    #num_trees=1000,\n",
        "    #tuner=tuner\n",
        "\n",
        "    min_examples=1,\n",
        "    categorical_algorithm=\"RANDOM\",\n",
        "    #max_depth=4,\n",
        "    shrinkage=0.05,\n",
        "    #num_candidate_attributes_ratio=0.2,\n",
        "    split_axis=\"SPARSE_OBLIQUE\",\n",
        "    sparse_oblique_normalization=\"MIN_MAX\",\n",
        "    sparse_oblique_num_projections_exponent=2.0,\n",
        "    num_trees=2000,\n",
        "    #validation_ratio=0.0,\n",
        "    random_seed=1234,\n",
        "\n",
        ")\n",
        "model.fit(train_ds)\n",
        "\n",
        "self_evaluation = model.make_inspector().evaluation()\n",
        "print(f\"Accuracy: {self_evaluation.accuracy} Loss:{self_evaluation.loss}\")"
      ],
      "metadata": {
        "execution": {
          "iopub.status.busy": "2024-10-30T13:38:18.155694Z",
          "iopub.execute_input": "2024-10-30T13:38:18.15652Z",
          "iopub.status.idle": "2024-10-30T13:38:19.417186Z",
          "shell.execute_reply.started": "2024-10-30T13:38:18.156473Z",
          "shell.execute_reply": "2024-10-30T13:38:19.41593Z"
        },
        "trusted": true,
        "id": "iPFhOv82twSj",
        "outputId": "4fca1212-f4e0-4372-8767-e8a000321fdf"
      },
      "execution_count": null,
      "outputs": [
        {
          "name": "stderr",
          "text": "[WARNING 24-10-30 13:38:18.1723 UTC gradient_boosted_trees.cc:1840] \"goss_alpha\" set but \"sampling_method\" not equal to \"GOSS\".\n[WARNING 24-10-30 13:38:18.1724 UTC gradient_boosted_trees.cc:1851] \"goss_beta\" set but \"sampling_method\" not equal to \"GOSS\".\n[WARNING 24-10-30 13:38:18.1724 UTC gradient_boosted_trees.cc:1865] \"selective_gradient_boosting_ratio\" set but \"sampling_method\" not equal to \"SELGB\".\n[INFO 24-10-30 13:38:19.0718 UTC kernel.cc:1233] Loading model from path /tmp/tmpdp5u6tbj/model/ with prefix c29133292ea14a2f\n[INFO 24-10-30 13:38:19.0811 UTC decision_forest.cc:734] Model loaded with 40 root(s), 2106 node(s), and 10 input feature(s).\n[INFO 24-10-30 13:38:19.0811 UTC abstract_model.cc:1362] Engine \"GradientBoostedTreesGeneric\" built\n[INFO 24-10-30 13:38:19.0811 UTC kernel.cc:1061] Use fast generic engine\n",
          "output_type": "stream"
        },
        {
          "name": "stdout",
          "text": "Accuracy: 0.782608687877655 Loss:1.0586705207824707\n",
          "output_type": "stream"
        }
      ]
    },
    {
      "cell_type": "code",
      "source": [
        "model.summary()"
      ],
      "metadata": {
        "execution": {
          "iopub.status.busy": "2024-10-30T13:38:22.844575Z",
          "iopub.execute_input": "2024-10-30T13:38:22.845012Z",
          "iopub.status.idle": "2024-10-30T13:38:22.861568Z",
          "shell.execute_reply.started": "2024-10-30T13:38:22.84497Z",
          "shell.execute_reply": "2024-10-30T13:38:22.859357Z"
        },
        "trusted": true,
        "id": "77Ht1ExNtwSk",
        "outputId": "8d6357b0-7115-4938-8fd0-85c08f332e5e"
      },
      "execution_count": null,
      "outputs": [
        {
          "name": "stdout",
          "text": "Model: \"gradient_boosted_trees_model_1\"\n_________________________________________________________________\n Layer (type)                Output Shape              Param #   \n=================================================================\n=================================================================\nTotal params: 1 (1.00 Byte)\nTrainable params: 0 (0.00 Byte)\nNon-trainable params: 1 (1.00 Byte)\n_________________________________________________________________\nType: \"GRADIENT_BOOSTED_TREES\"\nTask: CLASSIFICATION\nLabel: \"__LABEL\"\n\nInput Features (11):\n\tAge\n\tCabin\n\tEmbarked\n\tFare\n\tName\n\tParch\n\tPclass\n\tSex\n\tSibSp\n\tTicket_item\n\tTicket_number\n\nNo weights\n\nVariable Importance: INV_MEAN_MIN_DEPTH:\n    1.           \"Sex\"  0.585997 ################\n    2.           \"Age\"  0.364636 #######\n    3.          \"Fare\"  0.266191 ###\n    4.          \"Name\"  0.207054 #\n    5.        \"Pclass\"  0.179191 \n    6. \"Ticket_number\"  0.178806 \n    7.      \"Embarked\"  0.177803 \n    8.   \"Ticket_item\"  0.177009 \n    9.         \"Parch\"  0.175276 \n   10.         \"SibSp\"  0.171694 \n\nVariable Importance: NUM_AS_ROOT:\n    1.  \"Sex\" 34.000000 ################\n    2. \"Name\"  6.000000 \n\nVariable Importance: NUM_NODES:\n    1.           \"Age\" 510.000000 ################\n    2.          \"Fare\" 298.000000 #########\n    3.          \"Name\" 60.000000 #\n    4.   \"Ticket_item\" 47.000000 #\n    5.           \"Sex\" 40.000000 #\n    6.         \"Parch\" 22.000000 \n    7. \"Ticket_number\" 20.000000 \n    8.      \"Embarked\" 15.000000 \n    9.        \"Pclass\" 15.000000 \n   10.         \"SibSp\"  6.000000 \n\nVariable Importance: SUM_SCORE:\n    1.           \"Sex\" 482.453470 ################\n    2.           \"Age\" 390.670218 ############\n    3.          \"Fare\" 321.170935 ##########\n    4.          \"Name\" 102.043860 ###\n    5.        \"Pclass\" 26.605919 \n    6.   \"Ticket_item\" 22.954813 \n    7. \"Ticket_number\" 17.413948 \n    8.      \"Embarked\"  8.969861 \n    9.         \"Parch\"  6.947528 \n   10.         \"SibSp\"  0.455899 \n\n\n\nLoss: BINOMIAL_LOG_LIKELIHOOD\nValidation loss value: 1.05867\nNumber of trees per iteration: 1\nNode format: NOT_SET\nNumber of trees: 40\nTotal number of nodes: 2106\n\nNumber of nodes by tree:\nCount: 40 Average: 52.65 StdDev: 4.2869\nMin: 41 Max: 61 Ignored: 0\n----------------------------------------------\n[ 41, 42)  2   5.00%   5.00% ##\n[ 42, 43)  0   0.00%   5.00%\n[ 43, 44)  0   0.00%   5.00%\n[ 44, 45)  0   0.00%   5.00%\n[ 45, 46)  0   0.00%   5.00%\n[ 46, 47)  0   0.00%   5.00%\n[ 47, 48)  4  10.00%  15.00% ####\n[ 48, 49)  0   0.00%  15.00%\n[ 49, 50)  3   7.50%  22.50% ###\n[ 50, 51)  0   0.00%  22.50%\n[ 51, 52)  4  10.00%  32.50% ####\n[ 52, 53)  0   0.00%  32.50%\n[ 53, 54) 11  27.50%  60.00% ##########\n[ 54, 55)  0   0.00%  60.00%\n[ 55, 56) 10  25.00%  85.00% #########\n[ 56, 57)  0   0.00%  85.00%\n[ 57, 58)  2   5.00%  90.00% ##\n[ 58, 59)  0   0.00%  90.00%\n[ 59, 60)  3   7.50%  97.50% ###\n[ 60, 61]  1   2.50% 100.00% #\n\nDepth by leafs:\nCount: 1073 Average: 4.84623 StdDev: 0.454477\nMin: 2 Max: 5 Ignored: 0\n----------------------------------------------\n[ 2, 3)   1   0.09%   0.09%\n[ 3, 4)  38   3.54%   3.63%\n[ 4, 5)  86   8.01%  11.65% #\n[ 5, 5] 948  88.35% 100.00% ##########\n\nNumber of training obs by leaf:\nCount: 1073 Average: 29.7856 StdDev: 71.8675\nMin: 1 Max: 458 Ignored: 0\n----------------------------------------------\n[   1,  23) 846  78.84%  78.84% ##########\n[  23,  46)  62   5.78%  84.62% #\n[  46,  69)  48   4.47%  89.10% #\n[  69,  92)  21   1.96%  91.05%\n[  92, 115)  10   0.93%  91.99%\n[ 115, 138)  15   1.40%  93.38%\n[ 138, 161)  23   2.14%  95.53%\n[ 161, 184)   6   0.56%  96.09%\n[ 184, 207)   3   0.28%  96.37%\n[ 207, 230)   4   0.37%  96.74%\n[ 230, 252)   1   0.09%  96.83%\n[ 252, 275)   1   0.09%  96.92%\n[ 275, 298)   2   0.19%  97.11%\n[ 298, 321)   2   0.19%  97.30%\n[ 321, 344)   0   0.00%  97.30%\n[ 344, 367)   9   0.84%  98.14%\n[ 367, 390)   6   0.56%  98.70%\n[ 390, 413)   9   0.84%  99.53%\n[ 413, 436)   4   0.37%  99.91%\n[ 436, 458]   1   0.09% 100.00%\n\nAttribute in nodes:\n\t510 : Age [NUMERICAL]\n\t298 : Fare [NUMERICAL]\n\t60 : Name [CATEGORICAL_SET]\n\t47 : Ticket_item [CATEGORICAL]\n\t40 : Sex [CATEGORICAL]\n\t22 : Parch [NUMERICAL]\n\t20 : Ticket_number [CATEGORICAL]\n\t15 : Pclass [NUMERICAL]\n\t15 : Embarked [CATEGORICAL]\n\t6 : SibSp [NUMERICAL]\n\nAttribute in nodes with depth <= 0:\n\t34 : Sex [CATEGORICAL]\n\t6 : Name [CATEGORICAL_SET]\n\nAttribute in nodes with depth <= 1:\n\t48 : Age [NUMERICAL]\n\t34 : Sex [CATEGORICAL]\n\t25 : Fare [NUMERICAL]\n\t6 : Name [CATEGORICAL_SET]\n\t5 : Pclass [NUMERICAL]\n\t2 : Ticket_number [CATEGORICAL]\n\nAttribute in nodes with depth <= 2:\n\t121 : Age [NUMERICAL]\n\t74 : Fare [NUMERICAL]\n\t34 : Sex [CATEGORICAL]\n\t19 : Name [CATEGORICAL_SET]\n\t8 : Ticket_number [CATEGORICAL]\n\t8 : Embarked [CATEGORICAL]\n\t6 : Pclass [NUMERICAL]\n\t6 : Parch [NUMERICAL]\n\t3 : Ticket_item [CATEGORICAL]\n\nAttribute in nodes with depth <= 3:\n\t261 : Age [NUMERICAL]\n\t164 : Fare [NUMERICAL]\n\t36 : Sex [CATEGORICAL]\n\t35 : Name [CATEGORICAL_SET]\n\t16 : Ticket_item [CATEGORICAL]\n\t13 : Ticket_number [CATEGORICAL]\n\t12 : Embarked [CATEGORICAL]\n\t11 : Parch [NUMERICAL]\n\t9 : Pclass [NUMERICAL]\n\t2 : SibSp [NUMERICAL]\n\nAttribute in nodes with depth <= 5:\n\t510 : Age [NUMERICAL]\n\t298 : Fare [NUMERICAL]\n\t60 : Name [CATEGORICAL_SET]\n\t47 : Ticket_item [CATEGORICAL]\n\t40 : Sex [CATEGORICAL]\n\t22 : Parch [NUMERICAL]\n\t20 : Ticket_number [CATEGORICAL]\n\t15 : Pclass [NUMERICAL]\n\t15 : Embarked [CATEGORICAL]\n\t6 : SibSp [NUMERICAL]\n\nCondition type in nodes:\n\t851 : ObliqueCondition\n\t135 : ContainsBitmapCondition\n\t47 : ContainsCondition\nCondition type in nodes with depth <= 0:\n\t38 : ContainsBitmapCondition\n\t2 : ContainsCondition\nCondition type in nodes with depth <= 1:\n\t78 : ObliqueCondition\n\t40 : ContainsBitmapCondition\n\t2 : ContainsCondition\nCondition type in nodes with depth <= 2:\n\t207 : ObliqueCondition\n\t58 : ContainsBitmapCondition\n\t14 : ContainsCondition\nCondition type in nodes with depth <= 3:\n\t447 : ObliqueCondition\n\t83 : ContainsBitmapCondition\n\t29 : ContainsCondition\nCondition type in nodes with depth <= 5:\n\t851 : ObliqueCondition\n\t135 : ContainsBitmapCondition\n\t47 : ContainsCondition\n\nTraining logs:\nNumber of iteration to final model: 40\n\tIter:1 train-loss:1.264594 valid-loss:1.360749  train-accuracy:0.624531 valid-accuracy:0.543478\n\tIter:2 train-loss:1.210623 valid-loss:1.320363  train-accuracy:0.624531 valid-accuracy:0.543478\n\tIter:3 train-loss:1.160657 valid-loss:1.281972  train-accuracy:0.624531 valid-accuracy:0.543478\n\tIter:4 train-loss:1.116982 valid-loss:1.250548  train-accuracy:0.624531 valid-accuracy:0.543478\n\tIter:5 train-loss:1.075170 valid-loss:1.221467  train-accuracy:0.807259 valid-accuracy:0.760870\n\tIter:6 train-loss:1.035656 valid-loss:1.199482  train-accuracy:0.822278 valid-accuracy:0.760870\n\tIter:16 train-loss:0.787670 valid-loss:1.088161  train-accuracy:0.903630 valid-accuracy:0.771739\n\tIter:26 train-loss:0.647960 valid-loss:1.065191  train-accuracy:0.922403 valid-accuracy:0.782609\n\tIter:36 train-loss:0.557737 valid-loss:1.071260  train-accuracy:0.922403 valid-accuracy:0.782609\n\tIter:46 train-loss:0.494259 valid-loss:1.063639  train-accuracy:0.927409 valid-accuracy:0.771739\n\tIter:56 train-loss:0.443537 valid-loss:1.070069  train-accuracy:0.939925 valid-accuracy:0.760870\n\tIter:66 train-loss:0.404514 valid-loss:1.081874  train-accuracy:0.949937 valid-accuracy:0.760870\n\n",
          "output_type": "stream"
        }
      ]
    },
    {
      "cell_type": "code",
      "source": [
        "def prediction_to_kaggle_format(model, threshold=0.5):\n",
        "    proba_survive = model.predict(serving_ds, verbose=0)[:,0]\n",
        "    return pd.DataFrame({\n",
        "        \"PassengerId\": serving_df[\"PassengerId\"],\n",
        "        \"Survived\": (proba_survive >= threshold).astype(int)\n",
        "    })\n",
        "\n",
        "def make_submission(kaggle_predictions):\n",
        "    path=\"/kaggle/working/submission.csv\"\n",
        "    kaggle_predictions.to_csv(path, index=False)\n",
        "    print(f\"Submission exported to {path}\")\n",
        "\n",
        "kaggle_predictions = prediction_to_kaggle_format(model)\n",
        "make_submission(kaggle_predictions)\n",
        "!head /kaggle/working/submission.csv"
      ],
      "metadata": {
        "execution": {
          "iopub.status.busy": "2024-10-30T13:38:31.090642Z",
          "iopub.execute_input": "2024-10-30T13:38:31.0911Z",
          "iopub.status.idle": "2024-10-30T13:38:32.404315Z",
          "shell.execute_reply.started": "2024-10-30T13:38:31.091054Z",
          "shell.execute_reply": "2024-10-30T13:38:32.402858Z"
        },
        "trusted": true,
        "id": "4pqX9PhztwSk",
        "outputId": "2361d3b9-8a8c-44ff-da84-ba3a8b1561f7"
      },
      "execution_count": null,
      "outputs": [
        {
          "name": "stdout",
          "text": "Submission exported to /kaggle/working/submission.csv\nPassengerId,Survived\n892,0\n893,0\n894,0\n895,0\n896,0\n897,0\n898,0\n899,0\n900,1\n",
          "output_type": "stream"
        }
      ]
    },
    {
      "cell_type": "code",
      "source": [
        "tuner = tfdf.tuner.RandomSearch(num_trials=1000)\n",
        "tuner.choice(\"min_examples\", [2, 5, 7, 10])\n",
        "tuner.choice(\"categorical_algorithm\", [\"CART\", \"RANDOM\"])\n",
        "\n",
        "local_search_space = tuner.choice(\"growing_strategy\", [\"LOCAL\"])\n",
        "local_search_space.choice(\"max_depth\", [3, 4, 5, 6, 8])\n",
        "\n",
        "global_search_space = tuner.choice(\"growing_strategy\", [\"BEST_FIRST_GLOBAL\"], merge=True)\n",
        "global_search_space.choice(\"max_num_nodes\", [16, 32, 64, 128, 256])\n",
        "\n",
        "#tuner.choice(\"use_hessian_gain\", [True, False])\n",
        "tuner.choice(\"shrinkage\", [0.02, 0.05, 0.10, 0.15])\n",
        "tuner.choice(\"num_candidate_attributes_ratio\", [0.2, 0.5, 0.9, 1.0])\n",
        "\n",
        "\n",
        "tuner.choice(\"split_axis\", [\"AXIS_ALIGNED\"])\n",
        "oblique_space = tuner.choice(\"split_axis\", [\"SPARSE_OBLIQUE\"], merge=True)\n",
        "oblique_space.choice(\"sparse_oblique_normalization\",\n",
        "                     [\"NONE\", \"STANDARD_DEVIATION\", \"MIN_MAX\"])\n",
        "oblique_space.choice(\"sparse_oblique_weights\", [\"BINARY\", \"CONTINUOUS\"])\n",
        "oblique_space.choice(\"sparse_oblique_num_projections_exponent\", [1.0, 1.5])\n",
        "\n",
        "# Tune the model. Notice the `tuner=tuner`.\n",
        "tuned_model = tfdf.keras.GradientBoostedTreesModel(tuner=tuner)\n",
        "tuned_model.fit(train_ds, verbose=0)\n",
        "\n",
        "tuned_self_evaluation = tuned_model.make_inspector().evaluation()\n",
        "print(f\"Accuracy: {tuned_self_evaluation.accuracy} Loss:{tuned_self_evaluation.loss}\")"
      ],
      "metadata": {
        "execution": {
          "iopub.status.busy": "2024-10-30T13:38:34.607148Z",
          "iopub.execute_input": "2024-10-30T13:38:34.607679Z",
          "iopub.status.idle": "2024-10-30T13:44:23.180787Z",
          "shell.execute_reply.started": "2024-10-30T13:38:34.607628Z",
          "shell.execute_reply": "2024-10-30T13:44:23.179451Z"
        },
        "trusted": true,
        "id": "9Sl0wcxdtwSl",
        "outputId": "bf2eb643-801a-4fe8-d210-5aea7279a4c7"
      },
      "execution_count": null,
      "outputs": [
        {
          "name": "stdout",
          "text": "Use /tmp/tmpa0hj4j7y as temporary training directory\n",
          "output_type": "stream"
        },
        {
          "name": "stderr",
          "text": "[WARNING 24-10-30 13:38:34.6374 UTC gradient_boosted_trees.cc:1840] \"goss_alpha\" set but \"sampling_method\" not equal to \"GOSS\".\n[WARNING 24-10-30 13:38:34.6375 UTC gradient_boosted_trees.cc:1851] \"goss_beta\" set but \"sampling_method\" not equal to \"GOSS\".\n[WARNING 24-10-30 13:38:34.6375 UTC gradient_boosted_trees.cc:1865] \"selective_gradient_boosting_ratio\" set but \"sampling_method\" not equal to \"SELGB\".\n[INFO 24-10-30 13:44:22.7396 UTC kernel.cc:1233] Loading model from path /tmp/tmpa0hj4j7y/model/ with prefix 0d8ab316f7ef4dd4\n[INFO 24-10-30 13:44:22.7610 UTC decision_forest.cc:734] Model loaded with 30 root(s), 2236 node(s), and 12 input feature(s).\n[INFO 24-10-30 13:44:22.7610 UTC abstract_model.cc:1362] Engine \"GradientBoostedTreesGeneric\" built\n[INFO 24-10-30 13:44:22.7610 UTC kernel.cc:1061] Use fast generic engine\n",
          "output_type": "stream"
        },
        {
          "name": "stdout",
          "text": "Accuracy: 0.8630136847496033 Loss:0.6749962568283081\n",
          "output_type": "stream"
        }
      ]
    },
    {
      "cell_type": "code",
      "source": [
        "predictions = None\n",
        "num_predictions = 0\n",
        "\n",
        "for i in range(100):\n",
        "    print(f\"i:{i}\")\n",
        "    # Possible models: GradientBoostedTreesModel or RandomForestModel\n",
        "    model = tfdf.keras.GradientBoostedTreesModel(\n",
        "        verbose=0, # Very few logs\n",
        "        features=[tfdf.keras.FeatureUsage(name=n) for n in input_features],\n",
        "        exclude_non_specified_features=True, # Only use the features in \"features\"\n",
        "\n",
        "        #min_examples=1,\n",
        "        #categorical_algorithm=\"RANDOM\",\n",
        "        ##max_depth=4,\n",
        "        #shrinkage=0.05,\n",
        "        ##num_candidate_attributes_ratio=0.2,\n",
        "        #split_axis=\"SPARSE_OBLIQUE\",\n",
        "        #sparse_oblique_normalization=\"MIN_MAX\",\n",
        "        #sparse_oblique_num_projections_exponent=2.0,\n",
        "        #num_trees=2000,\n",
        "        ##validation_ratio=0.0,\n",
        "        random_seed=i,\n",
        "        honest=True,\n",
        "    )\n",
        "    model.fit(train_ds)\n",
        "\n",
        "    sub_predictions = model.predict(serving_ds, verbose=0)[:,0]\n",
        "    if predictions is None:\n",
        "        predictions = sub_predictions\n",
        "    else:\n",
        "        predictions += sub_predictions\n",
        "    num_predictions += 1\n",
        "\n",
        "predictions/=num_predictions\n",
        "\n",
        "kaggle_predictions = pd.DataFrame({\n",
        "        \"PassengerId\": serving_df[\"PassengerId\"],\n",
        "        \"Survived\": (predictions >= 0.5).astype(int)\n",
        "    })\n",
        "\n",
        "make_submission(kaggle_predictions)"
      ],
      "metadata": {
        "execution": {
          "iopub.status.busy": "2024-10-30T13:53:08.963521Z",
          "iopub.execute_input": "2024-10-30T13:53:08.96389Z",
          "iopub.status.idle": "2024-10-30T13:55:27.754632Z",
          "shell.execute_reply.started": "2024-10-30T13:53:08.963846Z",
          "shell.execute_reply": "2024-10-30T13:55:27.75331Z"
        },
        "trusted": true,
        "id": "8fArUnD6twSm",
        "outputId": "a90edd18-d6e8-482f-bda3-fce6faf3ee2d"
      },
      "execution_count": null,
      "outputs": [
        {
          "name": "stdout",
          "text": "i:0\n",
          "output_type": "stream"
        },
        {
          "name": "stderr",
          "text": "[WARNING 24-10-30 13:53:08.9813 UTC gradient_boosted_trees.cc:1840] \"goss_alpha\" set but \"sampling_method\" not equal to \"GOSS\".\n[WARNING 24-10-30 13:53:08.9813 UTC gradient_boosted_trees.cc:1851] \"goss_beta\" set but \"sampling_method\" not equal to \"GOSS\".\n[WARNING 24-10-30 13:53:08.9813 UTC gradient_boosted_trees.cc:1865] \"selective_gradient_boosting_ratio\" set but \"sampling_method\" not equal to \"SELGB\".\n[INFO 24-10-30 13:53:09.6006 UTC kernel.cc:1233] Loading model from path /tmp/tmptvzhthr8/model/ with prefix 610704e1b49444df\n[INFO 24-10-30 13:53:09.6052 UTC kernel.cc:1061] Use fast generic engine\n",
          "output_type": "stream"
        },
        {
          "name": "stdout",
          "text": "i:1\n",
          "output_type": "stream"
        },
        {
          "name": "stderr",
          "text": "[WARNING 24-10-30 13:53:10.0958 UTC gradient_boosted_trees.cc:1840] \"goss_alpha\" set but \"sampling_method\" not equal to \"GOSS\".\n[WARNING 24-10-30 13:53:10.0958 UTC gradient_boosted_trees.cc:1851] \"goss_beta\" set but \"sampling_method\" not equal to \"GOSS\".\n[WARNING 24-10-30 13:53:10.0958 UTC gradient_boosted_trees.cc:1865] \"selective_gradient_boosting_ratio\" set but \"sampling_method\" not equal to \"SELGB\".\n[INFO 24-10-30 13:53:11.0945 UTC kernel.cc:1233] Loading model from path /tmp/tmpisi8lkwg/model/ with prefix f66eafa5e22e4663\n[INFO 24-10-30 13:53:11.1156 UTC kernel.cc:1061] Use fast generic engine\n",
          "output_type": "stream"
        },
        {
          "name": "stdout",
          "text": "i:2\n",
          "output_type": "stream"
        },
        {
          "name": "stderr",
          "text": "[WARNING 24-10-30 13:53:11.6198 UTC gradient_boosted_trees.cc:1840] \"goss_alpha\" set but \"sampling_method\" not equal to \"GOSS\".\n[WARNING 24-10-30 13:53:11.6199 UTC gradient_boosted_trees.cc:1851] \"goss_beta\" set but \"sampling_method\" not equal to \"GOSS\".\n[WARNING 24-10-30 13:53:11.6199 UTC gradient_boosted_trees.cc:1865] \"selective_gradient_boosting_ratio\" set but \"sampling_method\" not equal to \"SELGB\".\n[INFO 24-10-30 13:53:12.2565 UTC kernel.cc:1233] Loading model from path /tmp/tmp5bg2xjhf/model/ with prefix ce284f15434d471d\n[INFO 24-10-30 13:53:12.2614 UTC kernel.cc:1061] Use fast generic engine\n",
          "output_type": "stream"
        },
        {
          "name": "stdout",
          "text": "i:3\n",
          "output_type": "stream"
        },
        {
          "name": "stderr",
          "text": "[WARNING 24-10-30 13:53:12.7820 UTC gradient_boosted_trees.cc:1840] \"goss_alpha\" set but \"sampling_method\" not equal to \"GOSS\".\n[WARNING 24-10-30 13:53:12.7820 UTC gradient_boosted_trees.cc:1851] \"goss_beta\" set but \"sampling_method\" not equal to \"GOSS\".\n[WARNING 24-10-30 13:53:12.7820 UTC gradient_boosted_trees.cc:1865] \"selective_gradient_boosting_ratio\" set but \"sampling_method\" not equal to \"SELGB\".\n[INFO 24-10-30 13:53:14.0361 UTC kernel.cc:1233] Loading model from path /tmp/tmpco_5n_75/model/ with prefix 943f5f9ac01a4e9f\n[INFO 24-10-30 13:53:14.0638 UTC abstract_model.cc:1362] Engine \"GradientBoostedTreesQuickScorerExtended\" built\n[INFO 24-10-30 13:53:14.0639 UTC kernel.cc:1061] Use fast generic engine\n",
          "output_type": "stream"
        },
        {
          "name": "stdout",
          "text": "i:4\n",
          "output_type": "stream"
        },
        {
          "name": "stderr",
          "text": "[WARNING 24-10-30 13:53:14.5707 UTC gradient_boosted_trees.cc:1840] \"goss_alpha\" set but \"sampling_method\" not equal to \"GOSS\".\n[WARNING 24-10-30 13:53:14.5708 UTC gradient_boosted_trees.cc:1851] \"goss_beta\" set but \"sampling_method\" not equal to \"GOSS\".\n[WARNING 24-10-30 13:53:14.5708 UTC gradient_boosted_trees.cc:1865] \"selective_gradient_boosting_ratio\" set but \"sampling_method\" not equal to \"SELGB\".\n[INFO 24-10-30 13:53:15.2427 UTC kernel.cc:1233] Loading model from path /tmp/tmpr3zxaapl/model/ with prefix fdc52f5ba9144981\n[INFO 24-10-30 13:53:15.2487 UTC kernel.cc:1061] Use fast generic engine\n",
          "output_type": "stream"
        },
        {
          "name": "stdout",
          "text": "i:5\n",
          "output_type": "stream"
        },
        {
          "name": "stderr",
          "text": "[WARNING 24-10-30 13:53:15.7491 UTC gradient_boosted_trees.cc:1840] \"goss_alpha\" set but \"sampling_method\" not equal to \"GOSS\".\n[WARNING 24-10-30 13:53:15.7491 UTC gradient_boosted_trees.cc:1851] \"goss_beta\" set but \"sampling_method\" not equal to \"GOSS\".\n[WARNING 24-10-30 13:53:15.7491 UTC gradient_boosted_trees.cc:1865] \"selective_gradient_boosting_ratio\" set but \"sampling_method\" not equal to \"SELGB\".\n[INFO 24-10-30 13:53:16.3625 UTC kernel.cc:1233] Loading model from path /tmp/tmp_uhvl94c/model/ with prefix 920fc050fb4a4874\n[INFO 24-10-30 13:53:16.3658 UTC kernel.cc:1061] Use fast generic engine\n",
          "output_type": "stream"
        },
        {
          "name": "stdout",
          "text": "i:6\n",
          "output_type": "stream"
        },
        {
          "name": "stderr",
          "text": "[WARNING 24-10-30 13:53:16.8585 UTC gradient_boosted_trees.cc:1840] \"goss_alpha\" set but \"sampling_method\" not equal to \"GOSS\".\n[WARNING 24-10-30 13:53:16.8585 UTC gradient_boosted_trees.cc:1851] \"goss_beta\" set but \"sampling_method\" not equal to \"GOSS\".\n[WARNING 24-10-30 13:53:16.8585 UTC gradient_boosted_trees.cc:1865] \"selective_gradient_boosting_ratio\" set but \"sampling_method\" not equal to \"SELGB\".\n[INFO 24-10-30 13:53:17.5867 UTC kernel.cc:1233] Loading model from path /tmp/tmpeyd8ghos/model/ with prefix 6b076c5a4b274f54\n[INFO 24-10-30 13:53:17.5948 UTC kernel.cc:1061] Use fast generic engine\n",
          "output_type": "stream"
        },
        {
          "name": "stdout",
          "text": "i:7\n",
          "output_type": "stream"
        },
        {
          "name": "stderr",
          "text": "[WARNING 24-10-30 13:53:18.1007 UTC gradient_boosted_trees.cc:1840] \"goss_alpha\" set but \"sampling_method\" not equal to \"GOSS\".\n[WARNING 24-10-30 13:53:18.1007 UTC gradient_boosted_trees.cc:1851] \"goss_beta\" set but \"sampling_method\" not equal to \"GOSS\".\n[WARNING 24-10-30 13:53:18.1007 UTC gradient_boosted_trees.cc:1865] \"selective_gradient_boosting_ratio\" set but \"sampling_method\" not equal to \"SELGB\".\n[INFO 24-10-30 13:53:19.1965 UTC kernel.cc:1233] Loading model from path /tmp/tmph6mx3hgu/model/ with prefix 64984ce5eba64456\n[INFO 24-10-30 13:53:19.2179 UTC kernel.cc:1061] Use fast generic engine\n",
          "output_type": "stream"
        },
        {
          "name": "stdout",
          "text": "i:8\n",
          "output_type": "stream"
        },
        {
          "name": "stderr",
          "text": "[WARNING 24-10-30 13:53:19.7108 UTC gradient_boosted_trees.cc:1840] \"goss_alpha\" set but \"sampling_method\" not equal to \"GOSS\".\n[WARNING 24-10-30 13:53:19.7108 UTC gradient_boosted_trees.cc:1851] \"goss_beta\" set but \"sampling_method\" not equal to \"GOSS\".\n[WARNING 24-10-30 13:53:19.7109 UTC gradient_boosted_trees.cc:1865] \"selective_gradient_boosting_ratio\" set but \"sampling_method\" not equal to \"SELGB\".\n[INFO 24-10-30 13:53:20.4786 UTC kernel.cc:1233] Loading model from path /tmp/tmpe5t2c83s/model/ with prefix 5929638b05234aad\n[INFO 24-10-30 13:53:20.4891 UTC kernel.cc:1061] Use fast generic engine\n",
          "output_type": "stream"
        },
        {
          "name": "stdout",
          "text": "i:9\n",
          "output_type": "stream"
        },
        {
          "name": "stderr",
          "text": "[WARNING 24-10-30 13:53:20.9895 UTC gradient_boosted_trees.cc:1840] \"goss_alpha\" set but \"sampling_method\" not equal to \"GOSS\".\n[WARNING 24-10-30 13:53:20.9896 UTC gradient_boosted_trees.cc:1851] \"goss_beta\" set but \"sampling_method\" not equal to \"GOSS\".\n[WARNING 24-10-30 13:53:20.9896 UTC gradient_boosted_trees.cc:1865] \"selective_gradient_boosting_ratio\" set but \"sampling_method\" not equal to \"SELGB\".\n[INFO 24-10-30 13:53:21.8987 UTC kernel.cc:1233] Loading model from path /tmp/tmpvs54a5he/model/ with prefix cd683643d89a4cb5\n[INFO 24-10-30 13:53:21.9141 UTC kernel.cc:1061] Use fast generic engine\n",
          "output_type": "stream"
        },
        {
          "name": "stdout",
          "text": "i:10\n",
          "output_type": "stream"
        },
        {
          "name": "stderr",
          "text": "[WARNING 24-10-30 13:53:22.4051 UTC gradient_boosted_trees.cc:1840] \"goss_alpha\" set but \"sampling_method\" not equal to \"GOSS\".\n[WARNING 24-10-30 13:53:22.4051 UTC gradient_boosted_trees.cc:1851] \"goss_beta\" set but \"sampling_method\" not equal to \"GOSS\".\n[WARNING 24-10-30 13:53:22.4051 UTC gradient_boosted_trees.cc:1865] \"selective_gradient_boosting_ratio\" set but \"sampling_method\" not equal to \"SELGB\".\n[INFO 24-10-30 13:53:23.0833 UTC kernel.cc:1233] Loading model from path /tmp/tmpbb5dxmk1/model/ with prefix 3c5b40caf6b64e11\n[INFO 24-10-30 13:53:23.0894 UTC kernel.cc:1061] Use fast generic engine\n",
          "output_type": "stream"
        },
        {
          "name": "stdout",
          "text": "i:11\n",
          "output_type": "stream"
        },
        {
          "name": "stderr",
          "text": "[WARNING 24-10-30 13:53:23.5911 UTC gradient_boosted_trees.cc:1840] \"goss_alpha\" set but \"sampling_method\" not equal to \"GOSS\".\n[WARNING 24-10-30 13:53:23.5911 UTC gradient_boosted_trees.cc:1851] \"goss_beta\" set but \"sampling_method\" not equal to \"GOSS\".\n[WARNING 24-10-30 13:53:23.5911 UTC gradient_boosted_trees.cc:1865] \"selective_gradient_boosting_ratio\" set but \"sampling_method\" not equal to \"SELGB\".\n[INFO 24-10-30 13:53:24.5254 UTC kernel.cc:1233] Loading model from path /tmp/tmp5iux_wdw/model/ with prefix 8448075bcad74b7a\n[INFO 24-10-30 13:53:24.5407 UTC abstract_model.cc:1362] Engine \"GradientBoostedTreesQuickScorerExtended\" built\n[INFO 24-10-30 13:53:24.5408 UTC kernel.cc:1061] Use fast generic engine\n",
          "output_type": "stream"
        },
        {
          "name": "stdout",
          "text": "i:12\n",
          "output_type": "stream"
        },
        {
          "name": "stderr",
          "text": "[WARNING 24-10-30 13:53:25.0439 UTC gradient_boosted_trees.cc:1840] \"goss_alpha\" set but \"sampling_method\" not equal to \"GOSS\".\n[WARNING 24-10-30 13:53:25.0439 UTC gradient_boosted_trees.cc:1851] \"goss_beta\" set but \"sampling_method\" not equal to \"GOSS\".\n[WARNING 24-10-30 13:53:25.0440 UTC gradient_boosted_trees.cc:1865] \"selective_gradient_boosting_ratio\" set but \"sampling_method\" not equal to \"SELGB\".\n[INFO 24-10-30 13:53:25.7169 UTC kernel.cc:1233] Loading model from path /tmp/tmp7xj899zt/model/ with prefix c076f9c34dd34ab1\n[INFO 24-10-30 13:53:25.7233 UTC kernel.cc:1061] Use fast generic engine\n",
          "output_type": "stream"
        },
        {
          "name": "stdout",
          "text": "i:13\n",
          "output_type": "stream"
        },
        {
          "name": "stderr",
          "text": "[WARNING 24-10-30 13:53:26.2519 UTC gradient_boosted_trees.cc:1840] \"goss_alpha\" set but \"sampling_method\" not equal to \"GOSS\".\n[WARNING 24-10-30 13:53:26.2520 UTC gradient_boosted_trees.cc:1851] \"goss_beta\" set but \"sampling_method\" not equal to \"GOSS\".\n[WARNING 24-10-30 13:53:26.2520 UTC gradient_boosted_trees.cc:1865] \"selective_gradient_boosting_ratio\" set but \"sampling_method\" not equal to \"SELGB\".\n[INFO 24-10-30 13:53:27.1081 UTC kernel.cc:1233] Loading model from path /tmp/tmpcdmy2lkj/model/ with prefix e5a4f135ad21427b\n[INFO 24-10-30 13:53:27.1198 UTC kernel.cc:1061] Use fast generic engine\n",
          "output_type": "stream"
        },
        {
          "name": "stdout",
          "text": "i:14\n",
          "output_type": "stream"
        },
        {
          "name": "stderr",
          "text": "[WARNING 24-10-30 13:53:27.6164 UTC gradient_boosted_trees.cc:1840] \"goss_alpha\" set but \"sampling_method\" not equal to \"GOSS\".\n[WARNING 24-10-30 13:53:27.6164 UTC gradient_boosted_trees.cc:1851] \"goss_beta\" set but \"sampling_method\" not equal to \"GOSS\".\n[WARNING 24-10-30 13:53:27.6164 UTC gradient_boosted_trees.cc:1865] \"selective_gradient_boosting_ratio\" set but \"sampling_method\" not equal to \"SELGB\".\n[INFO 24-10-30 13:53:28.3019 UTC kernel.cc:1233] Loading model from path /tmp/tmp216edv6s/model/ with prefix 8775e716b9cc4163\n[INFO 24-10-30 13:53:28.3086 UTC kernel.cc:1061] Use fast generic engine\n",
          "output_type": "stream"
        },
        {
          "name": "stdout",
          "text": "i:15\n",
          "output_type": "stream"
        },
        {
          "name": "stderr",
          "text": "[WARNING 24-10-30 13:53:28.8133 UTC gradient_boosted_trees.cc:1840] \"goss_alpha\" set but \"sampling_method\" not equal to \"GOSS\".\n[WARNING 24-10-30 13:53:28.8133 UTC gradient_boosted_trees.cc:1851] \"goss_beta\" set but \"sampling_method\" not equal to \"GOSS\".\n[WARNING 24-10-30 13:53:28.8133 UTC gradient_boosted_trees.cc:1865] \"selective_gradient_boosting_ratio\" set but \"sampling_method\" not equal to \"SELGB\".\n[INFO 24-10-30 13:53:29.5524 UTC kernel.cc:1233] Loading model from path /tmp/tmp3uc_d5hj/model/ with prefix 6a7068c535ea4ac3\n[INFO 24-10-30 13:53:29.5606 UTC kernel.cc:1061] Use fast generic engine\n",
          "output_type": "stream"
        },
        {
          "name": "stdout",
          "text": "i:16\n",
          "output_type": "stream"
        },
        {
          "name": "stderr",
          "text": "[WARNING 24-10-30 13:53:30.0585 UTC gradient_boosted_trees.cc:1840] \"goss_alpha\" set but \"sampling_method\" not equal to \"GOSS\".\n[WARNING 24-10-30 13:53:30.0585 UTC gradient_boosted_trees.cc:1851] \"goss_beta\" set but \"sampling_method\" not equal to \"GOSS\".\n[WARNING 24-10-30 13:53:30.0585 UTC gradient_boosted_trees.cc:1865] \"selective_gradient_boosting_ratio\" set but \"sampling_method\" not equal to \"SELGB\".\n[INFO 24-10-30 13:53:30.9110 UTC kernel.cc:1233] Loading model from path /tmp/tmpxsw9i4ck/model/ with prefix 909612eacd224bc0\n[INFO 24-10-30 13:53:30.9246 UTC kernel.cc:1061] Use fast generic engine\n",
          "output_type": "stream"
        },
        {
          "name": "stdout",
          "text": "i:17\n",
          "output_type": "stream"
        },
        {
          "name": "stderr",
          "text": "[WARNING 24-10-30 13:53:31.4114 UTC gradient_boosted_trees.cc:1840] \"goss_alpha\" set but \"sampling_method\" not equal to \"GOSS\".\n[WARNING 24-10-30 13:53:31.4114 UTC gradient_boosted_trees.cc:1851] \"goss_beta\" set but \"sampling_method\" not equal to \"GOSS\".\n[WARNING 24-10-30 13:53:31.4115 UTC gradient_boosted_trees.cc:1865] \"selective_gradient_boosting_ratio\" set but \"sampling_method\" not equal to \"SELGB\".\n[INFO 24-10-30 13:53:32.2925 UTC kernel.cc:1233] Loading model from path /tmp/tmpwzo2kaxl/model/ with prefix 9a42408bd86b414c\n[INFO 24-10-30 13:53:32.3065 UTC kernel.cc:1061] Use fast generic engine\n",
          "output_type": "stream"
        },
        {
          "name": "stdout",
          "text": "i:18\n",
          "output_type": "stream"
        },
        {
          "name": "stderr",
          "text": "[WARNING 24-10-30 13:53:34.6855 UTC gradient_boosted_trees.cc:1840] \"goss_alpha\" set but \"sampling_method\" not equal to \"GOSS\".\n[WARNING 24-10-30 13:53:34.6856 UTC gradient_boosted_trees.cc:1851] \"goss_beta\" set but \"sampling_method\" not equal to \"GOSS\".\n[WARNING 24-10-30 13:53:34.6856 UTC gradient_boosted_trees.cc:1865] \"selective_gradient_boosting_ratio\" set but \"sampling_method\" not equal to \"SELGB\".\n[INFO 24-10-30 13:53:35.6819 UTC kernel.cc:1233] Loading model from path /tmp/tmpm39kdluf/model/ with prefix 8950b48016d14687\n[INFO 24-10-30 13:53:35.6996 UTC abstract_model.cc:1362] Engine \"GradientBoostedTreesQuickScorerExtended\" built\n[INFO 24-10-30 13:53:35.6997 UTC kernel.cc:1061] Use fast generic engine\n",
          "output_type": "stream"
        },
        {
          "name": "stdout",
          "text": "i:19\n",
          "output_type": "stream"
        },
        {
          "name": "stderr",
          "text": "[WARNING 24-10-30 13:53:36.3390 UTC gradient_boosted_trees.cc:1840] \"goss_alpha\" set but \"sampling_method\" not equal to \"GOSS\".\n[WARNING 24-10-30 13:53:36.3390 UTC gradient_boosted_trees.cc:1851] \"goss_beta\" set but \"sampling_method\" not equal to \"GOSS\".\n[WARNING 24-10-30 13:53:36.3390 UTC gradient_boosted_trees.cc:1865] \"selective_gradient_boosting_ratio\" set but \"sampling_method\" not equal to \"SELGB\".\n[INFO 24-10-30 13:53:37.4162 UTC kernel.cc:1233] Loading model from path /tmp/tmpbn95o0z8/model/ with prefix e75fc99f051449ad\n[INFO 24-10-30 13:53:37.4396 UTC quick_scorer_extended.cc:911] The binary was compiled without AVX2 support, but your CPU supports it. Enable it for faster model inference.\n[INFO 24-10-30 13:53:37.4421 UTC kernel.cc:1061] Use fast generic engine\n",
          "output_type": "stream"
        },
        {
          "name": "stdout",
          "text": "i:20\n",
          "output_type": "stream"
        },
        {
          "name": "stderr",
          "text": "[WARNING 24-10-30 13:53:38.0262 UTC gradient_boosted_trees.cc:1840] \"goss_alpha\" set but \"sampling_method\" not equal to \"GOSS\".\n[WARNING 24-10-30 13:53:38.0262 UTC gradient_boosted_trees.cc:1851] \"goss_beta\" set but \"sampling_method\" not equal to \"GOSS\".\n[WARNING 24-10-30 13:53:38.0263 UTC gradient_boosted_trees.cc:1865] \"selective_gradient_boosting_ratio\" set but \"sampling_method\" not equal to \"SELGB\".\n[INFO 24-10-30 13:53:39.0432 UTC kernel.cc:1233] Loading model from path /tmp/tmpmaqbry38/model/ with prefix 2c66cd5b4a7f4ad4\n[INFO 24-10-30 13:53:39.0628 UTC kernel.cc:1061] Use fast generic engine\n",
          "output_type": "stream"
        },
        {
          "name": "stdout",
          "text": "i:21\n",
          "output_type": "stream"
        },
        {
          "name": "stderr",
          "text": "[WARNING 24-10-30 13:53:39.6109 UTC gradient_boosted_trees.cc:1840] \"goss_alpha\" set but \"sampling_method\" not equal to \"GOSS\".\n[WARNING 24-10-30 13:53:39.6109 UTC gradient_boosted_trees.cc:1851] \"goss_beta\" set but \"sampling_method\" not equal to \"GOSS\".\n[WARNING 24-10-30 13:53:39.6110 UTC gradient_boosted_trees.cc:1865] \"selective_gradient_boosting_ratio\" set but \"sampling_method\" not equal to \"SELGB\".\n[INFO 24-10-30 13:53:40.2985 UTC kernel.cc:1233] Loading model from path /tmp/tmp9f67svy3/model/ with prefix 97a49e61b91f425c\n[INFO 24-10-30 13:53:40.3051 UTC kernel.cc:1061] Use fast generic engine\n",
          "output_type": "stream"
        },
        {
          "name": "stdout",
          "text": "i:22\n",
          "output_type": "stream"
        },
        {
          "name": "stderr",
          "text": "[WARNING 24-10-30 13:53:40.8592 UTC gradient_boosted_trees.cc:1840] \"goss_alpha\" set but \"sampling_method\" not equal to \"GOSS\".\n[WARNING 24-10-30 13:53:40.8592 UTC gradient_boosted_trees.cc:1851] \"goss_beta\" set but \"sampling_method\" not equal to \"GOSS\".\n[WARNING 24-10-30 13:53:40.8592 UTC gradient_boosted_trees.cc:1865] \"selective_gradient_boosting_ratio\" set but \"sampling_method\" not equal to \"SELGB\".\n[INFO 24-10-30 13:53:41.5499 UTC kernel.cc:1233] Loading model from path /tmp/tmp0xcp4bao/model/ with prefix 7982dd761ab64b68\n[INFO 24-10-30 13:53:41.5570 UTC kernel.cc:1061] Use fast generic engine\n",
          "output_type": "stream"
        },
        {
          "name": "stdout",
          "text": "i:23\n",
          "output_type": "stream"
        },
        {
          "name": "stderr",
          "text": "[WARNING 24-10-30 13:53:42.0931 UTC gradient_boosted_trees.cc:1840] \"goss_alpha\" set but \"sampling_method\" not equal to \"GOSS\".\n[WARNING 24-10-30 13:53:42.0932 UTC gradient_boosted_trees.cc:1851] \"goss_beta\" set but \"sampling_method\" not equal to \"GOSS\".\n[WARNING 24-10-30 13:53:42.0932 UTC gradient_boosted_trees.cc:1865] \"selective_gradient_boosting_ratio\" set but \"sampling_method\" not equal to \"SELGB\".\n[INFO 24-10-30 13:53:42.8724 UTC kernel.cc:1233] Loading model from path /tmp/tmpjdu_pt2a/model/ with prefix 21b85accce844dd3\n[INFO 24-10-30 13:53:42.8832 UTC kernel.cc:1061] Use fast generic engine\n",
          "output_type": "stream"
        },
        {
          "name": "stdout",
          "text": "i:24\n",
          "output_type": "stream"
        },
        {
          "name": "stderr",
          "text": "[WARNING 24-10-30 13:53:43.4272 UTC gradient_boosted_trees.cc:1840] \"goss_alpha\" set but \"sampling_method\" not equal to \"GOSS\".\n[WARNING 24-10-30 13:53:43.4273 UTC gradient_boosted_trees.cc:1851] \"goss_beta\" set but \"sampling_method\" not equal to \"GOSS\".\n[WARNING 24-10-30 13:53:43.4273 UTC gradient_boosted_trees.cc:1865] \"selective_gradient_boosting_ratio\" set but \"sampling_method\" not equal to \"SELGB\".\n[INFO 24-10-30 13:53:44.1447 UTC kernel.cc:1233] Loading model from path /tmp/tmpu9l0k950/model/ with prefix f26d1143b1704fa1\n[INFO 24-10-30 13:53:44.1517 UTC kernel.cc:1061] Use fast generic engine\n",
          "output_type": "stream"
        },
        {
          "name": "stdout",
          "text": "i:25\n",
          "output_type": "stream"
        },
        {
          "name": "stderr",
          "text": "[WARNING 24-10-30 13:53:44.6889 UTC gradient_boosted_trees.cc:1840] \"goss_alpha\" set but \"sampling_method\" not equal to \"GOSS\".\n[WARNING 24-10-30 13:53:44.6890 UTC gradient_boosted_trees.cc:1851] \"goss_beta\" set but \"sampling_method\" not equal to \"GOSS\".\n[WARNING 24-10-30 13:53:44.6890 UTC gradient_boosted_trees.cc:1865] \"selective_gradient_boosting_ratio\" set but \"sampling_method\" not equal to \"SELGB\".\n[INFO 24-10-30 13:53:45.5514 UTC kernel.cc:1233] Loading model from path /tmp/tmpygcqsc62/model/ with prefix e6248807ce374368\n[INFO 24-10-30 13:53:45.5655 UTC kernel.cc:1061] Use fast generic engine\n",
          "output_type": "stream"
        },
        {
          "name": "stdout",
          "text": "i:26\n",
          "output_type": "stream"
        },
        {
          "name": "stderr",
          "text": "[WARNING 24-10-30 13:53:46.1029 UTC gradient_boosted_trees.cc:1840] \"goss_alpha\" set but \"sampling_method\" not equal to \"GOSS\".\n[WARNING 24-10-30 13:53:46.1029 UTC gradient_boosted_trees.cc:1851] \"goss_beta\" set but \"sampling_method\" not equal to \"GOSS\".\n[WARNING 24-10-30 13:53:46.1030 UTC gradient_boosted_trees.cc:1865] \"selective_gradient_boosting_ratio\" set but \"sampling_method\" not equal to \"SELGB\".\n[INFO 24-10-30 13:53:46.9030 UTC kernel.cc:1233] Loading model from path /tmp/tmphe8rg51m/model/ with prefix 7549b97c887f4c63\n[INFO 24-10-30 13:53:46.9160 UTC abstract_model.cc:1362] Engine \"GradientBoostedTreesQuickScorerExtended\" built\n[INFO 24-10-30 13:53:46.9160 UTC kernel.cc:1061] Use fast generic engine\n",
          "output_type": "stream"
        },
        {
          "name": "stdout",
          "text": "i:27\n",
          "output_type": "stream"
        },
        {
          "name": "stderr",
          "text": "[WARNING 24-10-30 13:53:47.4434 UTC gradient_boosted_trees.cc:1840] \"goss_alpha\" set but \"sampling_method\" not equal to \"GOSS\".\n[WARNING 24-10-30 13:53:47.4435 UTC gradient_boosted_trees.cc:1851] \"goss_beta\" set but \"sampling_method\" not equal to \"GOSS\".\n[WARNING 24-10-30 13:53:47.4435 UTC gradient_boosted_trees.cc:1865] \"selective_gradient_boosting_ratio\" set but \"sampling_method\" not equal to \"SELGB\".\n[INFO 24-10-30 13:53:48.1550 UTC kernel.cc:1233] Loading model from path /tmp/tmpcnjxb232/model/ with prefix 284141e451834efa\n[INFO 24-10-30 13:53:48.1625 UTC kernel.cc:1061] Use fast generic engine\n",
          "output_type": "stream"
        },
        {
          "name": "stdout",
          "text": "i:28\n",
          "output_type": "stream"
        },
        {
          "name": "stderr",
          "text": "[WARNING 24-10-30 13:53:48.7003 UTC gradient_boosted_trees.cc:1840] \"goss_alpha\" set but \"sampling_method\" not equal to \"GOSS\".\n[WARNING 24-10-30 13:53:48.7003 UTC gradient_boosted_trees.cc:1851] \"goss_beta\" set but \"sampling_method\" not equal to \"GOSS\".\n[WARNING 24-10-30 13:53:48.7003 UTC gradient_boosted_trees.cc:1865] \"selective_gradient_boosting_ratio\" set but \"sampling_method\" not equal to \"SELGB\".\n[INFO 24-10-30 13:53:49.4012 UTC kernel.cc:1233] Loading model from path /tmp/tmpdhyblbqt/model/ with prefix d960a320869a4abb\n[INFO 24-10-30 13:53:49.4071 UTC kernel.cc:1061] Use fast generic engine\n",
          "output_type": "stream"
        },
        {
          "name": "stdout",
          "text": "i:29\n",
          "output_type": "stream"
        },
        {
          "name": "stderr",
          "text": "[WARNING 24-10-30 13:53:49.9284 UTC gradient_boosted_trees.cc:1840] \"goss_alpha\" set but \"sampling_method\" not equal to \"GOSS\".\n[WARNING 24-10-30 13:53:49.9284 UTC gradient_boosted_trees.cc:1851] \"goss_beta\" set but \"sampling_method\" not equal to \"GOSS\".\n[WARNING 24-10-30 13:53:49.9284 UTC gradient_boosted_trees.cc:1865] \"selective_gradient_boosting_ratio\" set but \"sampling_method\" not equal to \"SELGB\".\n[INFO 24-10-30 13:53:50.8246 UTC kernel.cc:1233] Loading model from path /tmp/tmpapagouex/model/ with prefix 7f387a185292426e\n[INFO 24-10-30 13:53:50.8393 UTC kernel.cc:1061] Use fast generic engine\n",
          "output_type": "stream"
        },
        {
          "name": "stdout",
          "text": "i:30\n",
          "output_type": "stream"
        },
        {
          "name": "stderr",
          "text": "[WARNING 24-10-30 13:53:51.3591 UTC gradient_boosted_trees.cc:1840] \"goss_alpha\" set but \"sampling_method\" not equal to \"GOSS\".\n[WARNING 24-10-30 13:53:51.3592 UTC gradient_boosted_trees.cc:1851] \"goss_beta\" set but \"sampling_method\" not equal to \"GOSS\".\n[WARNING 24-10-30 13:53:51.3592 UTC gradient_boosted_trees.cc:1865] \"selective_gradient_boosting_ratio\" set but \"sampling_method\" not equal to \"SELGB\".\n[INFO 24-10-30 13:53:52.6115 UTC kernel.cc:1233] Loading model from path /tmp/tmpvova922v/model/ with prefix a9c505012fac4435\n[INFO 24-10-30 13:53:52.6413 UTC kernel.cc:1061] Use fast generic engine\n",
          "output_type": "stream"
        },
        {
          "name": "stdout",
          "text": "i:31\n",
          "output_type": "stream"
        },
        {
          "name": "stderr",
          "text": "[WARNING 24-10-30 13:53:53.1720 UTC gradient_boosted_trees.cc:1840] \"goss_alpha\" set but \"sampling_method\" not equal to \"GOSS\".\n[WARNING 24-10-30 13:53:53.1720 UTC gradient_boosted_trees.cc:1851] \"goss_beta\" set but \"sampling_method\" not equal to \"GOSS\".\n[WARNING 24-10-30 13:53:53.1720 UTC gradient_boosted_trees.cc:1865] \"selective_gradient_boosting_ratio\" set but \"sampling_method\" not equal to \"SELGB\".\n[INFO 24-10-30 13:53:53.9437 UTC kernel.cc:1233] Loading model from path /tmp/tmpn5kh0ab4/model/ with prefix 67dfded22c114471\n[INFO 24-10-30 13:53:53.9543 UTC kernel.cc:1061] Use fast generic engine\n",
          "output_type": "stream"
        },
        {
          "name": "stdout",
          "text": "i:32\n",
          "output_type": "stream"
        },
        {
          "name": "stderr",
          "text": "[WARNING 24-10-30 13:53:54.4767 UTC gradient_boosted_trees.cc:1840] \"goss_alpha\" set but \"sampling_method\" not equal to \"GOSS\".\n[WARNING 24-10-30 13:53:54.4767 UTC gradient_boosted_trees.cc:1851] \"goss_beta\" set but \"sampling_method\" not equal to \"GOSS\".\n[WARNING 24-10-30 13:53:54.4767 UTC gradient_boosted_trees.cc:1865] \"selective_gradient_boosting_ratio\" set but \"sampling_method\" not equal to \"SELGB\".\n[INFO 24-10-30 13:53:55.1381 UTC kernel.cc:1233] Loading model from path /tmp/tmpi0xq_lfq/model/ with prefix afee260cf1c24c8d\n[INFO 24-10-30 13:53:55.1444 UTC kernel.cc:1061] Use fast generic engine\n",
          "output_type": "stream"
        },
        {
          "name": "stdout",
          "text": "i:33\n",
          "output_type": "stream"
        },
        {
          "name": "stderr",
          "text": "[WARNING 24-10-30 13:53:55.6718 UTC gradient_boosted_trees.cc:1840] \"goss_alpha\" set but \"sampling_method\" not equal to \"GOSS\".\n[WARNING 24-10-30 13:53:55.6719 UTC gradient_boosted_trees.cc:1851] \"goss_beta\" set but \"sampling_method\" not equal to \"GOSS\".\n[WARNING 24-10-30 13:53:55.6719 UTC gradient_boosted_trees.cc:1865] \"selective_gradient_boosting_ratio\" set but \"sampling_method\" not equal to \"SELGB\".\n[INFO 24-10-30 13:53:56.5696 UTC kernel.cc:1233] Loading model from path /tmp/tmp6gz47xdw/model/ with prefix 3d5b43947aaa4580\n[INFO 24-10-30 13:53:56.5840 UTC kernel.cc:1061] Use fast generic engine\n",
          "output_type": "stream"
        },
        {
          "name": "stdout",
          "text": "i:34\n",
          "output_type": "stream"
        },
        {
          "name": "stderr",
          "text": "[WARNING 24-10-30 13:53:57.1093 UTC gradient_boosted_trees.cc:1840] \"goss_alpha\" set but \"sampling_method\" not equal to \"GOSS\".\n[WARNING 24-10-30 13:53:57.1093 UTC gradient_boosted_trees.cc:1851] \"goss_beta\" set but \"sampling_method\" not equal to \"GOSS\".\n[WARNING 24-10-30 13:53:57.1093 UTC gradient_boosted_trees.cc:1865] \"selective_gradient_boosting_ratio\" set but \"sampling_method\" not equal to \"SELGB\".\n[INFO 24-10-30 13:53:57.8639 UTC kernel.cc:1233] Loading model from path /tmp/tmpfysxp7sr/model/ with prefix a3890cb21c5e4368\n[INFO 24-10-30 13:53:57.8734 UTC abstract_model.cc:1362] Engine \"GradientBoostedTreesQuickScorerExtended\" built\n[INFO 24-10-30 13:53:57.8735 UTC kernel.cc:1061] Use fast generic engine\n",
          "output_type": "stream"
        },
        {
          "name": "stdout",
          "text": "i:35\n",
          "output_type": "stream"
        },
        {
          "name": "stderr",
          "text": "[WARNING 24-10-30 13:53:58.3870 UTC gradient_boosted_trees.cc:1840] \"goss_alpha\" set but \"sampling_method\" not equal to \"GOSS\".\n[WARNING 24-10-30 13:53:58.3870 UTC gradient_boosted_trees.cc:1851] \"goss_beta\" set but \"sampling_method\" not equal to \"GOSS\".\n[WARNING 24-10-30 13:53:58.3870 UTC gradient_boosted_trees.cc:1865] \"selective_gradient_boosting_ratio\" set but \"sampling_method\" not equal to \"SELGB\".\n[INFO 24-10-30 13:53:59.1588 UTC kernel.cc:1233] Loading model from path /tmp/tmp843lkrkq/model/ with prefix 61791bbeba2448cb\n[INFO 24-10-30 13:53:59.1678 UTC kernel.cc:1061] Use fast generic engine\n",
          "output_type": "stream"
        },
        {
          "name": "stdout",
          "text": "i:36\n",
          "output_type": "stream"
        },
        {
          "name": "stderr",
          "text": "[WARNING 24-10-30 13:53:59.6874 UTC gradient_boosted_trees.cc:1840] \"goss_alpha\" set but \"sampling_method\" not equal to \"GOSS\".\n[WARNING 24-10-30 13:53:59.6874 UTC gradient_boosted_trees.cc:1851] \"goss_beta\" set but \"sampling_method\" not equal to \"GOSS\".\n[WARNING 24-10-30 13:53:59.6874 UTC gradient_boosted_trees.cc:1865] \"selective_gradient_boosting_ratio\" set but \"sampling_method\" not equal to \"SELGB\".\n[INFO 24-10-30 13:54:00.5869 UTC kernel.cc:1233] Loading model from path /tmp/tmpd91z_8da/model/ with prefix 95cc4f943ca54ce0\n[INFO 24-10-30 13:54:00.6023 UTC kernel.cc:1061] Use fast generic engine\n",
          "output_type": "stream"
        },
        {
          "name": "stdout",
          "text": "i:37\n",
          "output_type": "stream"
        },
        {
          "name": "stderr",
          "text": "[WARNING 24-10-30 13:54:01.1103 UTC gradient_boosted_trees.cc:1840] \"goss_alpha\" set but \"sampling_method\" not equal to \"GOSS\".\n[WARNING 24-10-30 13:54:01.1103 UTC gradient_boosted_trees.cc:1851] \"goss_beta\" set but \"sampling_method\" not equal to \"GOSS\".\n[WARNING 24-10-30 13:54:01.1103 UTC gradient_boosted_trees.cc:1865] \"selective_gradient_boosting_ratio\" set but \"sampling_method\" not equal to \"SELGB\".\n[INFO 24-10-30 13:54:01.8693 UTC kernel.cc:1233] Loading model from path /tmp/tmpi96er4iu/model/ with prefix 92f0155b712e439b\n[INFO 24-10-30 13:54:01.8786 UTC kernel.cc:1061] Use fast generic engine\n",
          "output_type": "stream"
        },
        {
          "name": "stdout",
          "text": "i:38\n",
          "output_type": "stream"
        },
        {
          "name": "stderr",
          "text": "[WARNING 24-10-30 13:54:02.3782 UTC gradient_boosted_trees.cc:1840] \"goss_alpha\" set but \"sampling_method\" not equal to \"GOSS\".\n[WARNING 24-10-30 13:54:02.3782 UTC gradient_boosted_trees.cc:1851] \"goss_beta\" set but \"sampling_method\" not equal to \"GOSS\".\n[WARNING 24-10-30 13:54:02.3782 UTC gradient_boosted_trees.cc:1865] \"selective_gradient_boosting_ratio\" set but \"sampling_method\" not equal to \"SELGB\".\n[INFO 24-10-30 13:54:03.2493 UTC kernel.cc:1233] Loading model from path /tmp/tmp9j4_d154/model/ with prefix daa4bac0ff4a4c8e\n[INFO 24-10-30 13:54:03.2636 UTC kernel.cc:1061] Use fast generic engine\n",
          "output_type": "stream"
        },
        {
          "name": "stdout",
          "text": "i:39\n",
          "output_type": "stream"
        },
        {
          "name": "stderr",
          "text": "[WARNING 24-10-30 13:54:03.7800 UTC gradient_boosted_trees.cc:1840] \"goss_alpha\" set but \"sampling_method\" not equal to \"GOSS\".\n[WARNING 24-10-30 13:54:03.7800 UTC gradient_boosted_trees.cc:1851] \"goss_beta\" set but \"sampling_method\" not equal to \"GOSS\".\n[WARNING 24-10-30 13:54:03.7801 UTC gradient_boosted_trees.cc:1865] \"selective_gradient_boosting_ratio\" set but \"sampling_method\" not equal to \"SELGB\".\n[INFO 24-10-30 13:54:04.6381 UTC kernel.cc:1233] Loading model from path /tmp/tmpeowt68j4/model/ with prefix 518cdc06884a4cd1\n[INFO 24-10-30 13:54:04.6519 UTC kernel.cc:1061] Use fast generic engine\n",
          "output_type": "stream"
        },
        {
          "name": "stdout",
          "text": "i:40\n",
          "output_type": "stream"
        },
        {
          "name": "stderr",
          "text": "[WARNING 24-10-30 13:54:05.1772 UTC gradient_boosted_trees.cc:1840] \"goss_alpha\" set but \"sampling_method\" not equal to \"GOSS\".\n[WARNING 24-10-30 13:54:05.1773 UTC gradient_boosted_trees.cc:1851] \"goss_beta\" set but \"sampling_method\" not equal to \"GOSS\".\n[WARNING 24-10-30 13:54:05.1773 UTC gradient_boosted_trees.cc:1865] \"selective_gradient_boosting_ratio\" set but \"sampling_method\" not equal to \"SELGB\".\n[INFO 24-10-30 13:54:05.8684 UTC kernel.cc:1233] Loading model from path /tmp/tmpb7j646r1/model/ with prefix 13d4c0ce9aa04e67\n[INFO 24-10-30 13:54:05.8735 UTC kernel.cc:1061] Use fast generic engine\n",
          "output_type": "stream"
        },
        {
          "name": "stdout",
          "text": "i:41\n",
          "output_type": "stream"
        },
        {
          "name": "stderr",
          "text": "[WARNING 24-10-30 13:54:06.3817 UTC gradient_boosted_trees.cc:1840] \"goss_alpha\" set but \"sampling_method\" not equal to \"GOSS\".\n[WARNING 24-10-30 13:54:06.3817 UTC gradient_boosted_trees.cc:1851] \"goss_beta\" set but \"sampling_method\" not equal to \"GOSS\".\n[WARNING 24-10-30 13:54:06.3817 UTC gradient_boosted_trees.cc:1865] \"selective_gradient_boosting_ratio\" set but \"sampling_method\" not equal to \"SELGB\".\n[INFO 24-10-30 13:54:07.3139 UTC kernel.cc:1233] Loading model from path /tmp/tmprttm7usc/model/ with prefix f5afb3151b9c4461\n[INFO 24-10-30 13:54:07.3302 UTC kernel.cc:1061] Use fast generic engine\n",
          "output_type": "stream"
        },
        {
          "name": "stdout",
          "text": "i:42\n",
          "output_type": "stream"
        },
        {
          "name": "stderr",
          "text": "[WARNING 24-10-30 13:54:07.8319 UTC gradient_boosted_trees.cc:1840] \"goss_alpha\" set but \"sampling_method\" not equal to \"GOSS\".\n[WARNING 24-10-30 13:54:07.8319 UTC gradient_boosted_trees.cc:1851] \"goss_beta\" set but \"sampling_method\" not equal to \"GOSS\".\n[WARNING 24-10-30 13:54:07.8320 UTC gradient_boosted_trees.cc:1865] \"selective_gradient_boosting_ratio\" set but \"sampling_method\" not equal to \"SELGB\".\n[INFO 24-10-30 13:54:08.6024 UTC kernel.cc:1233] Loading model from path /tmp/tmp7sqazal3/model/ with prefix d4b75cc477734815\n[INFO 24-10-30 13:54:08.6119 UTC quick_scorer_extended.cc:911] The binary was compiled without AVX2 support, but your CPU supports it. Enable it for faster model inference.\n[INFO 24-10-30 13:54:08.6125 UTC abstract_model.cc:1362] Engine \"GradientBoostedTreesQuickScorerExtended\" built\n[INFO 24-10-30 13:54:08.6126 UTC kernel.cc:1061] Use fast generic engine\n",
          "output_type": "stream"
        },
        {
          "name": "stdout",
          "text": "i:43\n",
          "output_type": "stream"
        },
        {
          "name": "stderr",
          "text": "[WARNING 24-10-30 13:54:09.1350 UTC gradient_boosted_trees.cc:1840] \"goss_alpha\" set but \"sampling_method\" not equal to \"GOSS\".\n[WARNING 24-10-30 13:54:09.1350 UTC gradient_boosted_trees.cc:1851] \"goss_beta\" set but \"sampling_method\" not equal to \"GOSS\".\n[WARNING 24-10-30 13:54:09.1350 UTC gradient_boosted_trees.cc:1865] \"selective_gradient_boosting_ratio\" set but \"sampling_method\" not equal to \"SELGB\".\n[INFO 24-10-30 13:54:10.0971 UTC kernel.cc:1233] Loading model from path /tmp/tmpvjv1tc8g/model/ with prefix fdcb76cb9c1d4370\n[INFO 24-10-30 13:54:10.1159 UTC kernel.cc:1061] Use fast generic engine\n",
          "output_type": "stream"
        },
        {
          "name": "stdout",
          "text": "i:44\n",
          "output_type": "stream"
        },
        {
          "name": "stderr",
          "text": "[WARNING 24-10-30 13:54:10.6308 UTC gradient_boosted_trees.cc:1840] \"goss_alpha\" set but \"sampling_method\" not equal to \"GOSS\".\n[WARNING 24-10-30 13:54:10.6309 UTC gradient_boosted_trees.cc:1851] \"goss_beta\" set but \"sampling_method\" not equal to \"GOSS\".\n[WARNING 24-10-30 13:54:10.6309 UTC gradient_boosted_trees.cc:1865] \"selective_gradient_boosting_ratio\" set but \"sampling_method\" not equal to \"SELGB\".\n[INFO 24-10-30 13:54:11.4005 UTC kernel.cc:1233] Loading model from path /tmp/tmpdehfankn/model/ with prefix e7e6ad6a804745f8\n[INFO 24-10-30 13:54:11.4105 UTC kernel.cc:1061] Use fast generic engine\n",
          "output_type": "stream"
        },
        {
          "name": "stdout",
          "text": "i:45\n",
          "output_type": "stream"
        },
        {
          "name": "stderr",
          "text": "[WARNING 24-10-30 13:54:11.9086 UTC gradient_boosted_trees.cc:1840] \"goss_alpha\" set but \"sampling_method\" not equal to \"GOSS\".\n[WARNING 24-10-30 13:54:11.9086 UTC gradient_boosted_trees.cc:1851] \"goss_beta\" set but \"sampling_method\" not equal to \"GOSS\".\n[WARNING 24-10-30 13:54:11.9086 UTC gradient_boosted_trees.cc:1865] \"selective_gradient_boosting_ratio\" set but \"sampling_method\" not equal to \"SELGB\".\n[INFO 24-10-30 13:54:12.5299 UTC kernel.cc:1233] Loading model from path /tmp/tmpib6nhj_j/model/ with prefix 33b7684a0c224201\n[INFO 24-10-30 13:54:12.5336 UTC kernel.cc:1061] Use fast generic engine\n",
          "output_type": "stream"
        },
        {
          "name": "stdout",
          "text": "i:46\n",
          "output_type": "stream"
        },
        {
          "name": "stderr",
          "text": "[WARNING 24-10-30 13:54:13.0432 UTC gradient_boosted_trees.cc:1840] \"goss_alpha\" set but \"sampling_method\" not equal to \"GOSS\".\n[WARNING 24-10-30 13:54:13.0433 UTC gradient_boosted_trees.cc:1851] \"goss_beta\" set but \"sampling_method\" not equal to \"GOSS\".\n[WARNING 24-10-30 13:54:13.0433 UTC gradient_boosted_trees.cc:1865] \"selective_gradient_boosting_ratio\" set but \"sampling_method\" not equal to \"SELGB\".\n[INFO 24-10-30 13:54:13.9561 UTC kernel.cc:1233] Loading model from path /tmp/tmp8_6dxfrb/model/ with prefix 201bf89eb6aa4039\n[INFO 24-10-30 13:54:13.9713 UTC kernel.cc:1061] Use fast generic engine\n",
          "output_type": "stream"
        },
        {
          "name": "stdout",
          "text": "i:47\n",
          "output_type": "stream"
        },
        {
          "name": "stderr",
          "text": "[WARNING 24-10-30 13:54:14.4834 UTC gradient_boosted_trees.cc:1840] \"goss_alpha\" set but \"sampling_method\" not equal to \"GOSS\".\n[WARNING 24-10-30 13:54:14.4835 UTC gradient_boosted_trees.cc:1851] \"goss_beta\" set but \"sampling_method\" not equal to \"GOSS\".\n[WARNING 24-10-30 13:54:14.4835 UTC gradient_boosted_trees.cc:1865] \"selective_gradient_boosting_ratio\" set but \"sampling_method\" not equal to \"SELGB\".\n[INFO 24-10-30 13:54:15.3719 UTC kernel.cc:1233] Loading model from path /tmp/tmpfiaokhpu/model/ with prefix 2da96098f36348c6\n[INFO 24-10-30 13:54:15.3859 UTC kernel.cc:1061] Use fast generic engine\n",
          "output_type": "stream"
        },
        {
          "name": "stdout",
          "text": "i:48\n",
          "output_type": "stream"
        },
        {
          "name": "stderr",
          "text": "[WARNING 24-10-30 13:54:15.8882 UTC gradient_boosted_trees.cc:1840] \"goss_alpha\" set but \"sampling_method\" not equal to \"GOSS\".\n[WARNING 24-10-30 13:54:15.8883 UTC gradient_boosted_trees.cc:1851] \"goss_beta\" set but \"sampling_method\" not equal to \"GOSS\".\n[WARNING 24-10-30 13:54:15.8883 UTC gradient_boosted_trees.cc:1865] \"selective_gradient_boosting_ratio\" set but \"sampling_method\" not equal to \"SELGB\".\n[INFO 24-10-30 13:54:16.5370 UTC kernel.cc:1233] Loading model from path /tmp/tmpno1aplxv/model/ with prefix e1ce7edd41fa4366\n[INFO 24-10-30 13:54:16.5418 UTC kernel.cc:1061] Use fast generic engine\n",
          "output_type": "stream"
        },
        {
          "name": "stdout",
          "text": "i:49\n",
          "output_type": "stream"
        },
        {
          "name": "stderr",
          "text": "[WARNING 24-10-30 13:54:17.0468 UTC gradient_boosted_trees.cc:1840] \"goss_alpha\" set but \"sampling_method\" not equal to \"GOSS\".\n[WARNING 24-10-30 13:54:17.0468 UTC gradient_boosted_trees.cc:1851] \"goss_beta\" set but \"sampling_method\" not equal to \"GOSS\".\n[WARNING 24-10-30 13:54:17.0468 UTC gradient_boosted_trees.cc:1865] \"selective_gradient_boosting_ratio\" set but \"sampling_method\" not equal to \"SELGB\".\n[INFO 24-10-30 13:54:17.7502 UTC kernel.cc:1233] Loading model from path /tmp/tmp8zguj4i2/model/ with prefix 4723b0b94acc4f74\n[INFO 24-10-30 13:54:17.7581 UTC kernel.cc:1061] Use fast generic engine\n",
          "output_type": "stream"
        },
        {
          "name": "stdout",
          "text": "i:50\n",
          "output_type": "stream"
        },
        {
          "name": "stderr",
          "text": "[WARNING 24-10-30 13:54:18.2523 UTC gradient_boosted_trees.cc:1840] \"goss_alpha\" set but \"sampling_method\" not equal to \"GOSS\".\n[WARNING 24-10-30 13:54:18.2523 UTC gradient_boosted_trees.cc:1851] \"goss_beta\" set but \"sampling_method\" not equal to \"GOSS\".\n[WARNING 24-10-30 13:54:18.2523 UTC gradient_boosted_trees.cc:1865] \"selective_gradient_boosting_ratio\" set but \"sampling_method\" not equal to \"SELGB\".\n[INFO 24-10-30 13:54:19.1326 UTC kernel.cc:1233] Loading model from path /tmp/tmpadfq2clx/model/ with prefix 081fa8dfad8947e9\n[INFO 24-10-30 13:54:19.1456 UTC abstract_model.cc:1362] Engine \"GradientBoostedTreesQuickScorerExtended\" built\n[INFO 24-10-30 13:54:19.1457 UTC kernel.cc:1061] Use fast generic engine\n",
          "output_type": "stream"
        },
        {
          "name": "stdout",
          "text": "i:51\n",
          "output_type": "stream"
        },
        {
          "name": "stderr",
          "text": "[WARNING 24-10-30 13:54:19.6495 UTC gradient_boosted_trees.cc:1840] \"goss_alpha\" set but \"sampling_method\" not equal to \"GOSS\".\n[WARNING 24-10-30 13:54:19.6495 UTC gradient_boosted_trees.cc:1851] \"goss_beta\" set but \"sampling_method\" not equal to \"GOSS\".\n[WARNING 24-10-30 13:54:19.6495 UTC gradient_boosted_trees.cc:1865] \"selective_gradient_boosting_ratio\" set but \"sampling_method\" not equal to \"SELGB\".\n[INFO 24-10-30 13:54:20.5788 UTC kernel.cc:1233] Loading model from path /tmp/tmpj2wr_ihs/model/ with prefix b0b06d6961d94149\n[INFO 24-10-30 13:54:20.5956 UTC kernel.cc:1061] Use fast generic engine\n",
          "output_type": "stream"
        },
        {
          "name": "stdout",
          "text": "i:52\n",
          "output_type": "stream"
        },
        {
          "name": "stderr",
          "text": "[WARNING 24-10-30 13:54:21.1034 UTC gradient_boosted_trees.cc:1840] \"goss_alpha\" set but \"sampling_method\" not equal to \"GOSS\".\n[WARNING 24-10-30 13:54:21.1034 UTC gradient_boosted_trees.cc:1851] \"goss_beta\" set but \"sampling_method\" not equal to \"GOSS\".\n[WARNING 24-10-30 13:54:21.1034 UTC gradient_boosted_trees.cc:1865] \"selective_gradient_boosting_ratio\" set but \"sampling_method\" not equal to \"SELGB\".\n[INFO 24-10-30 13:54:21.8211 UTC kernel.cc:1233] Loading model from path /tmp/tmp387trkw0/model/ with prefix 36e5731835f149b2\n[INFO 24-10-30 13:54:21.8293 UTC kernel.cc:1061] Use fast generic engine\n",
          "output_type": "stream"
        },
        {
          "name": "stdout",
          "text": "i:53\n",
          "output_type": "stream"
        },
        {
          "name": "stderr",
          "text": "[WARNING 24-10-30 13:54:22.3261 UTC gradient_boosted_trees.cc:1840] \"goss_alpha\" set but \"sampling_method\" not equal to \"GOSS\".\n[WARNING 24-10-30 13:54:22.3261 UTC gradient_boosted_trees.cc:1851] \"goss_beta\" set but \"sampling_method\" not equal to \"GOSS\".\n[WARNING 24-10-30 13:54:22.3261 UTC gradient_boosted_trees.cc:1865] \"selective_gradient_boosting_ratio\" set but \"sampling_method\" not equal to \"SELGB\".\n[INFO 24-10-30 13:54:23.0577 UTC kernel.cc:1233] Loading model from path /tmp/tmp4rfpuwua/model/ with prefix abc1d3ecbb064b79\n[INFO 24-10-30 13:54:23.0657 UTC kernel.cc:1061] Use fast generic engine\n",
          "output_type": "stream"
        },
        {
          "name": "stdout",
          "text": "i:54\n",
          "output_type": "stream"
        },
        {
          "name": "stderr",
          "text": "[WARNING 24-10-30 13:54:23.5665 UTC gradient_boosted_trees.cc:1840] \"goss_alpha\" set but \"sampling_method\" not equal to \"GOSS\".\n[WARNING 24-10-30 13:54:23.5665 UTC gradient_boosted_trees.cc:1851] \"goss_beta\" set but \"sampling_method\" not equal to \"GOSS\".\n[WARNING 24-10-30 13:54:23.5665 UTC gradient_boosted_trees.cc:1865] \"selective_gradient_boosting_ratio\" set but \"sampling_method\" not equal to \"SELGB\".\n[INFO 24-10-30 13:54:24.1899 UTC kernel.cc:1233] Loading model from path /tmp/tmpoavcuo2z/model/ with prefix a75b39ba8822460e\n[INFO 24-10-30 13:54:24.1936 UTC kernel.cc:1061] Use fast generic engine\n",
          "output_type": "stream"
        },
        {
          "name": "stdout",
          "text": "i:55\n",
          "output_type": "stream"
        },
        {
          "name": "stderr",
          "text": "[WARNING 24-10-30 13:54:24.6964 UTC gradient_boosted_trees.cc:1840] \"goss_alpha\" set but \"sampling_method\" not equal to \"GOSS\".\n[WARNING 24-10-30 13:54:24.6964 UTC gradient_boosted_trees.cc:1851] \"goss_beta\" set but \"sampling_method\" not equal to \"GOSS\".\n[WARNING 24-10-30 13:54:24.6964 UTC gradient_boosted_trees.cc:1865] \"selective_gradient_boosting_ratio\" set but \"sampling_method\" not equal to \"SELGB\".\n[INFO 24-10-30 13:54:25.6201 UTC kernel.cc:1233] Loading model from path /tmp/tmpu8wn7t9f/model/ with prefix 000e89916147471d\n[INFO 24-10-30 13:54:25.6355 UTC kernel.cc:1061] Use fast generic engine\n",
          "output_type": "stream"
        },
        {
          "name": "stdout",
          "text": "i:56\n",
          "output_type": "stream"
        },
        {
          "name": "stderr",
          "text": "[WARNING 24-10-30 13:54:26.1410 UTC gradient_boosted_trees.cc:1840] \"goss_alpha\" set but \"sampling_method\" not equal to \"GOSS\".\n[WARNING 24-10-30 13:54:26.1411 UTC gradient_boosted_trees.cc:1851] \"goss_beta\" set but \"sampling_method\" not equal to \"GOSS\".\n[WARNING 24-10-30 13:54:26.1411 UTC gradient_boosted_trees.cc:1865] \"selective_gradient_boosting_ratio\" set but \"sampling_method\" not equal to \"SELGB\".\n[INFO 24-10-30 13:54:26.9300 UTC kernel.cc:1233] Loading model from path /tmp/tmp6cs59i94/model/ with prefix 606f95a0bc3541d1\n[INFO 24-10-30 13:54:26.9411 UTC kernel.cc:1061] Use fast generic engine\n",
          "output_type": "stream"
        },
        {
          "name": "stdout",
          "text": "i:57\n",
          "output_type": "stream"
        },
        {
          "name": "stderr",
          "text": "[WARNING 24-10-30 13:54:27.4388 UTC gradient_boosted_trees.cc:1840] \"goss_alpha\" set but \"sampling_method\" not equal to \"GOSS\".\n[WARNING 24-10-30 13:54:27.4388 UTC gradient_boosted_trees.cc:1851] \"goss_beta\" set but \"sampling_method\" not equal to \"GOSS\".\n[WARNING 24-10-30 13:54:27.4389 UTC gradient_boosted_trees.cc:1865] \"selective_gradient_boosting_ratio\" set but \"sampling_method\" not equal to \"SELGB\".\n[INFO 24-10-30 13:54:28.0761 UTC kernel.cc:1233] Loading model from path /tmp/tmpomcct99p/model/ with prefix 3b20ceb9b60c41b7\n[INFO 24-10-30 13:54:28.0809 UTC kernel.cc:1061] Use fast generic engine\n",
          "output_type": "stream"
        },
        {
          "name": "stdout",
          "text": "i:58\n",
          "output_type": "stream"
        },
        {
          "name": "stderr",
          "text": "[WARNING 24-10-30 13:54:28.6252 UTC gradient_boosted_trees.cc:1840] \"goss_alpha\" set but \"sampling_method\" not equal to \"GOSS\".\n[WARNING 24-10-30 13:54:28.6253 UTC gradient_boosted_trees.cc:1851] \"goss_beta\" set but \"sampling_method\" not equal to \"GOSS\".\n[WARNING 24-10-30 13:54:28.6253 UTC gradient_boosted_trees.cc:1865] \"selective_gradient_boosting_ratio\" set but \"sampling_method\" not equal to \"SELGB\".\n[INFO 24-10-30 13:54:29.4414 UTC kernel.cc:1233] Loading model from path /tmp/tmpth1agsu1/model/ with prefix 8e6cd1a6693f4538\n[INFO 24-10-30 13:54:29.4486 UTC abstract_model.cc:1362] Engine \"GradientBoostedTreesQuickScorerExtended\" built\n[INFO 24-10-30 13:54:29.4487 UTC kernel.cc:1061] Use fast generic engine\n",
          "output_type": "stream"
        },
        {
          "name": "stdout",
          "text": "i:59\n",
          "output_type": "stream"
        },
        {
          "name": "stderr",
          "text": "[WARNING 24-10-30 13:54:29.9569 UTC gradient_boosted_trees.cc:1840] \"goss_alpha\" set but \"sampling_method\" not equal to \"GOSS\".\n[WARNING 24-10-30 13:54:29.9570 UTC gradient_boosted_trees.cc:1851] \"goss_beta\" set but \"sampling_method\" not equal to \"GOSS\".\n[WARNING 24-10-30 13:54:29.9570 UTC gradient_boosted_trees.cc:1865] \"selective_gradient_boosting_ratio\" set but \"sampling_method\" not equal to \"SELGB\".\n[INFO 24-10-30 13:54:30.7373 UTC kernel.cc:1233] Loading model from path /tmp/tmpoe8vvr73/model/ with prefix 5fa4a19fbd5e4e9b\n[INFO 24-10-30 13:54:30.7474 UTC kernel.cc:1061] Use fast generic engine\n",
          "output_type": "stream"
        },
        {
          "name": "stdout",
          "text": "i:60\n",
          "output_type": "stream"
        },
        {
          "name": "stderr",
          "text": "[WARNING 24-10-30 13:54:31.2636 UTC gradient_boosted_trees.cc:1840] \"goss_alpha\" set but \"sampling_method\" not equal to \"GOSS\".\n[WARNING 24-10-30 13:54:31.2637 UTC gradient_boosted_trees.cc:1851] \"goss_beta\" set but \"sampling_method\" not equal to \"GOSS\".\n[WARNING 24-10-30 13:54:31.2637 UTC gradient_boosted_trees.cc:1865] \"selective_gradient_boosting_ratio\" set but \"sampling_method\" not equal to \"SELGB\".\n[INFO 24-10-30 13:54:32.0412 UTC kernel.cc:1233] Loading model from path /tmp/tmprh0phe3e/model/ with prefix e97bdadfe92947a8\n[INFO 24-10-30 13:54:32.0517 UTC kernel.cc:1061] Use fast generic engine\n",
          "output_type": "stream"
        },
        {
          "name": "stdout",
          "text": "i:61\n",
          "output_type": "stream"
        },
        {
          "name": "stderr",
          "text": "[WARNING 24-10-30 13:54:32.5522 UTC gradient_boosted_trees.cc:1840] \"goss_alpha\" set but \"sampling_method\" not equal to \"GOSS\".\n[WARNING 24-10-30 13:54:32.5523 UTC gradient_boosted_trees.cc:1851] \"goss_beta\" set but \"sampling_method\" not equal to \"GOSS\".\n[WARNING 24-10-30 13:54:32.5523 UTC gradient_boosted_trees.cc:1865] \"selective_gradient_boosting_ratio\" set but \"sampling_method\" not equal to \"SELGB\".\n[INFO 24-10-30 13:54:33.2124 UTC kernel.cc:1233] Loading model from path /tmp/tmpj_rqikog/model/ with prefix 8fe4c9bfef1d4877\n[INFO 24-10-30 13:54:33.2176 UTC kernel.cc:1061] Use fast generic engine\n",
          "output_type": "stream"
        },
        {
          "name": "stdout",
          "text": "i:62\n",
          "output_type": "stream"
        },
        {
          "name": "stderr",
          "text": "[WARNING 24-10-30 13:54:33.7260 UTC gradient_boosted_trees.cc:1840] \"goss_alpha\" set but \"sampling_method\" not equal to \"GOSS\".\n[WARNING 24-10-30 13:54:33.7260 UTC gradient_boosted_trees.cc:1851] \"goss_beta\" set but \"sampling_method\" not equal to \"GOSS\".\n[WARNING 24-10-30 13:54:33.7260 UTC gradient_boosted_trees.cc:1865] \"selective_gradient_boosting_ratio\" set but \"sampling_method\" not equal to \"SELGB\".\n[INFO 24-10-30 13:54:34.5660 UTC kernel.cc:1233] Loading model from path /tmp/tmpjn23sdod/model/ with prefix e581c4c0b6624334\n[INFO 24-10-30 13:54:34.5791 UTC kernel.cc:1061] Use fast generic engine\n",
          "output_type": "stream"
        },
        {
          "name": "stdout",
          "text": "i:63\n",
          "output_type": "stream"
        },
        {
          "name": "stderr",
          "text": "[WARNING 24-10-30 13:54:35.0825 UTC gradient_boosted_trees.cc:1840] \"goss_alpha\" set but \"sampling_method\" not equal to \"GOSS\".\n[WARNING 24-10-30 13:54:35.0825 UTC gradient_boosted_trees.cc:1851] \"goss_beta\" set but \"sampling_method\" not equal to \"GOSS\".\n[WARNING 24-10-30 13:54:35.0825 UTC gradient_boosted_trees.cc:1865] \"selective_gradient_boosting_ratio\" set but \"sampling_method\" not equal to \"SELGB\".\n[INFO 24-10-30 13:54:35.8596 UTC kernel.cc:1233] Loading model from path /tmp/tmp2ydqfx01/model/ with prefix 1b72bf547f694702\n[INFO 24-10-30 13:54:35.8694 UTC kernel.cc:1061] Use fast generic engine\n",
          "output_type": "stream"
        },
        {
          "name": "stdout",
          "text": "i:64\n",
          "output_type": "stream"
        },
        {
          "name": "stderr",
          "text": "[WARNING 24-10-30 13:54:36.3789 UTC gradient_boosted_trees.cc:1840] \"goss_alpha\" set but \"sampling_method\" not equal to \"GOSS\".\n[WARNING 24-10-30 13:54:36.3789 UTC gradient_boosted_trees.cc:1851] \"goss_beta\" set but \"sampling_method\" not equal to \"GOSS\".\n[WARNING 24-10-30 13:54:36.3790 UTC gradient_boosted_trees.cc:1865] \"selective_gradient_boosting_ratio\" set but \"sampling_method\" not equal to \"SELGB\".\n[INFO 24-10-30 13:54:37.1564 UTC kernel.cc:1233] Loading model from path /tmp/tmpb_xk4a4w/model/ with prefix ad4182199d134944\n[INFO 24-10-30 13:54:37.1648 UTC kernel.cc:1061] Use fast generic engine\n",
          "output_type": "stream"
        },
        {
          "name": "stdout",
          "text": "i:65\n",
          "output_type": "stream"
        },
        {
          "name": "stderr",
          "text": "[WARNING 24-10-30 13:54:37.6905 UTC gradient_boosted_trees.cc:1840] \"goss_alpha\" set but \"sampling_method\" not equal to \"GOSS\".\n[WARNING 24-10-30 13:54:37.6906 UTC gradient_boosted_trees.cc:1851] \"goss_beta\" set but \"sampling_method\" not equal to \"GOSS\".\n[WARNING 24-10-30 13:54:37.6906 UTC gradient_boosted_trees.cc:1865] \"selective_gradient_boosting_ratio\" set but \"sampling_method\" not equal to \"SELGB\".\n[INFO 24-10-30 13:54:38.3658 UTC kernel.cc:1233] Loading model from path /tmp/tmpnayvn62m/model/ with prefix 0e068bc46c5f402c\n[INFO 24-10-30 13:54:38.3711 UTC kernel.cc:1061] Use fast generic engine\n",
          "output_type": "stream"
        },
        {
          "name": "stdout",
          "text": "i:66\n",
          "output_type": "stream"
        },
        {
          "name": "stderr",
          "text": "[WARNING 24-10-30 13:54:38.9016 UTC gradient_boosted_trees.cc:1840] \"goss_alpha\" set but \"sampling_method\" not equal to \"GOSS\".\n[WARNING 24-10-30 13:54:38.9017 UTC gradient_boosted_trees.cc:1851] \"goss_beta\" set but \"sampling_method\" not equal to \"GOSS\".\n[WARNING 24-10-30 13:54:38.9017 UTC gradient_boosted_trees.cc:1865] \"selective_gradient_boosting_ratio\" set but \"sampling_method\" not equal to \"SELGB\".\n[INFO 24-10-30 13:54:39.6178 UTC kernel.cc:1233] Loading model from path /tmp/tmpj7sfrq3o/model/ with prefix 773614f0a3e24718\n[INFO 24-10-30 13:54:39.6244 UTC quick_scorer_extended.cc:911] The binary was compiled without AVX2 support, but your CPU supports it. Enable it for faster model inference.\n[INFO 24-10-30 13:54:39.6250 UTC abstract_model.cc:1362] Engine \"GradientBoostedTreesQuickScorerExtended\" built\n[INFO 24-10-30 13:54:39.6250 UTC kernel.cc:1061] Use fast generic engine\n",
          "output_type": "stream"
        },
        {
          "name": "stdout",
          "text": "i:67\n",
          "output_type": "stream"
        },
        {
          "name": "stderr",
          "text": "[WARNING 24-10-30 13:54:40.1197 UTC gradient_boosted_trees.cc:1840] \"goss_alpha\" set but \"sampling_method\" not equal to \"GOSS\".\n[WARNING 24-10-30 13:54:40.1198 UTC gradient_boosted_trees.cc:1851] \"goss_beta\" set but \"sampling_method\" not equal to \"GOSS\".\n[WARNING 24-10-30 13:54:40.1198 UTC gradient_boosted_trees.cc:1865] \"selective_gradient_boosting_ratio\" set but \"sampling_method\" not equal to \"SELGB\".\n[INFO 24-10-30 13:54:41.1377 UTC kernel.cc:1233] Loading model from path /tmp/tmptarb97jn/model/ with prefix 2ea88f07719b46bd\n[INFO 24-10-30 13:54:41.1586 UTC kernel.cc:1061] Use fast generic engine\n",
          "output_type": "stream"
        },
        {
          "name": "stdout",
          "text": "i:68\n",
          "output_type": "stream"
        },
        {
          "name": "stderr",
          "text": "[WARNING 24-10-30 13:54:41.6634 UTC gradient_boosted_trees.cc:1840] \"goss_alpha\" set but \"sampling_method\" not equal to \"GOSS\".\n[WARNING 24-10-30 13:54:41.6634 UTC gradient_boosted_trees.cc:1851] \"goss_beta\" set but \"sampling_method\" not equal to \"GOSS\".\n[WARNING 24-10-30 13:54:41.6634 UTC gradient_boosted_trees.cc:1865] \"selective_gradient_boosting_ratio\" set but \"sampling_method\" not equal to \"SELGB\".\n[INFO 24-10-30 13:54:42.5096 UTC kernel.cc:1233] Loading model from path /tmp/tmppowt53s6/model/ with prefix 2e62226501764aaf\n[INFO 24-10-30 13:54:42.5224 UTC kernel.cc:1061] Use fast generic engine\n",
          "output_type": "stream"
        },
        {
          "name": "stdout",
          "text": "i:69\n",
          "output_type": "stream"
        },
        {
          "name": "stderr",
          "text": "[WARNING 24-10-30 13:54:43.0307 UTC gradient_boosted_trees.cc:1840] \"goss_alpha\" set but \"sampling_method\" not equal to \"GOSS\".\n[WARNING 24-10-30 13:54:43.0307 UTC gradient_boosted_trees.cc:1851] \"goss_beta\" set but \"sampling_method\" not equal to \"GOSS\".\n[WARNING 24-10-30 13:54:43.0307 UTC gradient_boosted_trees.cc:1865] \"selective_gradient_boosting_ratio\" set but \"sampling_method\" not equal to \"SELGB\".\n[INFO 24-10-30 13:54:43.7506 UTC kernel.cc:1233] Loading model from path /tmp/tmppo0q3o0t/model/ with prefix 396f585797ee4d5a\n[INFO 24-10-30 13:54:43.7575 UTC kernel.cc:1061] Use fast generic engine\n",
          "output_type": "stream"
        },
        {
          "name": "stdout",
          "text": "i:70\n",
          "output_type": "stream"
        },
        {
          "name": "stderr",
          "text": "[WARNING 24-10-30 13:54:44.2640 UTC gradient_boosted_trees.cc:1840] \"goss_alpha\" set but \"sampling_method\" not equal to \"GOSS\".\n[WARNING 24-10-30 13:54:44.2641 UTC gradient_boosted_trees.cc:1851] \"goss_beta\" set but \"sampling_method\" not equal to \"GOSS\".\n[WARNING 24-10-30 13:54:44.2641 UTC gradient_boosted_trees.cc:1865] \"selective_gradient_boosting_ratio\" set but \"sampling_method\" not equal to \"SELGB\".\n[INFO 24-10-30 13:54:45.0284 UTC kernel.cc:1233] Loading model from path /tmp/tmpqst8t8hz/model/ with prefix 12788a38275a47b2\n[INFO 24-10-30 13:54:45.0377 UTC kernel.cc:1061] Use fast generic engine\n",
          "output_type": "stream"
        },
        {
          "name": "stdout",
          "text": "i:71\n",
          "output_type": "stream"
        },
        {
          "name": "stderr",
          "text": "[WARNING 24-10-30 13:54:45.5392 UTC gradient_boosted_trees.cc:1840] \"goss_alpha\" set but \"sampling_method\" not equal to \"GOSS\".\n[WARNING 24-10-30 13:54:45.5392 UTC gradient_boosted_trees.cc:1851] \"goss_beta\" set but \"sampling_method\" not equal to \"GOSS\".\n[WARNING 24-10-30 13:54:45.5392 UTC gradient_boosted_trees.cc:1865] \"selective_gradient_boosting_ratio\" set but \"sampling_method\" not equal to \"SELGB\".\n[INFO 24-10-30 13:54:46.2710 UTC kernel.cc:1233] Loading model from path /tmp/tmpidmdc6rl/model/ with prefix a1cd8269aa144c2a\n[INFO 24-10-30 13:54:46.2794 UTC kernel.cc:1061] Use fast generic engine\n",
          "output_type": "stream"
        },
        {
          "name": "stdout",
          "text": "i:72\n",
          "output_type": "stream"
        },
        {
          "name": "stderr",
          "text": "[WARNING 24-10-30 13:54:46.7859 UTC gradient_boosted_trees.cc:1840] \"goss_alpha\" set but \"sampling_method\" not equal to \"GOSS\".\n[WARNING 24-10-30 13:54:46.7860 UTC gradient_boosted_trees.cc:1851] \"goss_beta\" set but \"sampling_method\" not equal to \"GOSS\".\n[WARNING 24-10-30 13:54:46.7860 UTC gradient_boosted_trees.cc:1865] \"selective_gradient_boosting_ratio\" set but \"sampling_method\" not equal to \"SELGB\".\n[INFO 24-10-30 13:54:47.7574 UTC kernel.cc:1233] Loading model from path /tmp/tmp9jvuw437/model/ with prefix 9528ec058e544b85\n[INFO 24-10-30 13:54:47.7742 UTC kernel.cc:1061] Use fast generic engine\n",
          "output_type": "stream"
        },
        {
          "name": "stdout",
          "text": "i:73\n",
          "output_type": "stream"
        },
        {
          "name": "stderr",
          "text": "[WARNING 24-10-30 13:54:48.2797 UTC gradient_boosted_trees.cc:1840] \"goss_alpha\" set but \"sampling_method\" not equal to \"GOSS\".\n[WARNING 24-10-30 13:54:48.2798 UTC gradient_boosted_trees.cc:1851] \"goss_beta\" set but \"sampling_method\" not equal to \"GOSS\".\n[WARNING 24-10-30 13:54:48.2798 UTC gradient_boosted_trees.cc:1865] \"selective_gradient_boosting_ratio\" set but \"sampling_method\" not equal to \"SELGB\".\n[INFO 24-10-30 13:54:49.0604 UTC kernel.cc:1233] Loading model from path /tmp/tmpkj27k1u1/model/ with prefix 50e8379a7e8441f0\n[INFO 24-10-30 13:54:49.0677 UTC kernel.cc:1061] Use fast generic engine\n",
          "output_type": "stream"
        },
        {
          "name": "stdout",
          "text": "i:74\n",
          "output_type": "stream"
        },
        {
          "name": "stderr",
          "text": "[WARNING 24-10-30 13:54:49.5697 UTC gradient_boosted_trees.cc:1840] \"goss_alpha\" set but \"sampling_method\" not equal to \"GOSS\".\n[WARNING 24-10-30 13:54:49.5697 UTC gradient_boosted_trees.cc:1851] \"goss_beta\" set but \"sampling_method\" not equal to \"GOSS\".\n[WARNING 24-10-30 13:54:49.5697 UTC gradient_boosted_trees.cc:1865] \"selective_gradient_boosting_ratio\" set but \"sampling_method\" not equal to \"SELGB\".\n[INFO 24-10-30 13:54:50.4292 UTC kernel.cc:1233] Loading model from path /tmp/tmp_jr6cjxr/model/ with prefix d97d4d92bfa64b46\n[INFO 24-10-30 13:54:50.4417 UTC abstract_model.cc:1362] Engine \"GradientBoostedTreesQuickScorerExtended\" built\n[INFO 24-10-30 13:54:50.4418 UTC kernel.cc:1061] Use fast generic engine\n",
          "output_type": "stream"
        },
        {
          "name": "stdout",
          "text": "i:75\n",
          "output_type": "stream"
        },
        {
          "name": "stderr",
          "text": "[WARNING 24-10-30 13:54:50.9531 UTC gradient_boosted_trees.cc:1840] \"goss_alpha\" set but \"sampling_method\" not equal to \"GOSS\".\n[WARNING 24-10-30 13:54:50.9531 UTC gradient_boosted_trees.cc:1851] \"goss_beta\" set but \"sampling_method\" not equal to \"GOSS\".\n[WARNING 24-10-30 13:54:50.9531 UTC gradient_boosted_trees.cc:1865] \"selective_gradient_boosting_ratio\" set but \"sampling_method\" not equal to \"SELGB\".\n[INFO 24-10-30 13:54:51.7157 UTC kernel.cc:1233] Loading model from path /tmp/tmpdkqxkx8b/model/ with prefix 9abf9851ffdd4a3a\n[INFO 24-10-30 13:54:51.7248 UTC kernel.cc:1061] Use fast generic engine\n",
          "output_type": "stream"
        },
        {
          "name": "stdout",
          "text": "i:76\n",
          "output_type": "stream"
        },
        {
          "name": "stderr",
          "text": "[WARNING 24-10-30 13:54:52.2331 UTC gradient_boosted_trees.cc:1840] \"goss_alpha\" set but \"sampling_method\" not equal to \"GOSS\".\n[WARNING 24-10-30 13:54:52.2331 UTC gradient_boosted_trees.cc:1851] \"goss_beta\" set but \"sampling_method\" not equal to \"GOSS\".\n[WARNING 24-10-30 13:54:52.2332 UTC gradient_boosted_trees.cc:1865] \"selective_gradient_boosting_ratio\" set but \"sampling_method\" not equal to \"SELGB\".\n[INFO 24-10-30 13:54:52.9003 UTC kernel.cc:1233] Loading model from path /tmp/tmpnue8cf9q/model/ with prefix cb80fac01cef4269\n[INFO 24-10-30 13:54:52.9046 UTC kernel.cc:1061] Use fast generic engine\n",
          "output_type": "stream"
        },
        {
          "name": "stdout",
          "text": "i:77\n",
          "output_type": "stream"
        },
        {
          "name": "stderr",
          "text": "[WARNING 24-10-30 13:54:55.5899 UTC gradient_boosted_trees.cc:1840] \"goss_alpha\" set but \"sampling_method\" not equal to \"GOSS\".\n[WARNING 24-10-30 13:54:55.5899 UTC gradient_boosted_trees.cc:1851] \"goss_beta\" set but \"sampling_method\" not equal to \"GOSS\".\n[WARNING 24-10-30 13:54:55.5900 UTC gradient_boosted_trees.cc:1865] \"selective_gradient_boosting_ratio\" set but \"sampling_method\" not equal to \"SELGB\".\n[INFO 24-10-30 13:54:56.4978 UTC kernel.cc:1233] Loading model from path /tmp/tmpt_6_94qu/model/ with prefix 358124be8e814ccc\n[INFO 24-10-30 13:54:56.5058 UTC kernel.cc:1061] Use fast generic engine\n",
          "output_type": "stream"
        },
        {
          "name": "stdout",
          "text": "i:78\n",
          "output_type": "stream"
        },
        {
          "name": "stderr",
          "text": "[WARNING 24-10-30 13:54:57.3088 UTC gradient_boosted_trees.cc:1840] \"goss_alpha\" set but \"sampling_method\" not equal to \"GOSS\".\n[WARNING 24-10-30 13:54:57.3088 UTC gradient_boosted_trees.cc:1851] \"goss_beta\" set but \"sampling_method\" not equal to \"GOSS\".\n[WARNING 24-10-30 13:54:57.3089 UTC gradient_boosted_trees.cc:1865] \"selective_gradient_boosting_ratio\" set but \"sampling_method\" not equal to \"SELGB\".\n[INFO 24-10-30 13:54:58.1217 UTC kernel.cc:1233] Loading model from path /tmp/tmpy0pax15e/model/ with prefix 67e2c097cbd44bac\n[INFO 24-10-30 13:54:58.1308 UTC kernel.cc:1061] Use fast generic engine\n",
          "output_type": "stream"
        },
        {
          "name": "stdout",
          "text": "i:79\n",
          "output_type": "stream"
        },
        {
          "name": "stderr",
          "text": "[WARNING 24-10-30 13:54:58.7210 UTC gradient_boosted_trees.cc:1840] \"goss_alpha\" set but \"sampling_method\" not equal to \"GOSS\".\n[WARNING 24-10-30 13:54:58.7210 UTC gradient_boosted_trees.cc:1851] \"goss_beta\" set but \"sampling_method\" not equal to \"GOSS\".\n[WARNING 24-10-30 13:54:58.7210 UTC gradient_boosted_trees.cc:1865] \"selective_gradient_boosting_ratio\" set but \"sampling_method\" not equal to \"SELGB\".\n[INFO 24-10-30 13:54:59.5196 UTC kernel.cc:1233] Loading model from path /tmp/tmpk7e2nws0/model/ with prefix f43287dae77e4b16\n[INFO 24-10-30 13:54:59.5288 UTC kernel.cc:1061] Use fast generic engine\n",
          "output_type": "stream"
        },
        {
          "name": "stdout",
          "text": "i:80\n",
          "output_type": "stream"
        },
        {
          "name": "stderr",
          "text": "[WARNING 24-10-30 13:55:00.0975 UTC gradient_boosted_trees.cc:1840] \"goss_alpha\" set but \"sampling_method\" not equal to \"GOSS\".\n[WARNING 24-10-30 13:55:00.0975 UTC gradient_boosted_trees.cc:1851] \"goss_beta\" set but \"sampling_method\" not equal to \"GOSS\".\n[WARNING 24-10-30 13:55:00.0976 UTC gradient_boosted_trees.cc:1865] \"selective_gradient_boosting_ratio\" set but \"sampling_method\" not equal to \"SELGB\".\n[INFO 24-10-30 13:55:01.0808 UTC kernel.cc:1233] Loading model from path /tmp/tmpailh9g3o/model/ with prefix 42d14342cc5d4f9d\n[INFO 24-10-30 13:55:01.0952 UTC abstract_model.cc:1362] Engine \"GradientBoostedTreesQuickScorerExtended\" built\n[INFO 24-10-30 13:55:01.0953 UTC kernel.cc:1061] Use fast generic engine\n",
          "output_type": "stream"
        },
        {
          "name": "stdout",
          "text": "i:81\n",
          "output_type": "stream"
        },
        {
          "name": "stderr",
          "text": "[WARNING 24-10-30 13:55:01.6559 UTC gradient_boosted_trees.cc:1840] \"goss_alpha\" set but \"sampling_method\" not equal to \"GOSS\".\n[WARNING 24-10-30 13:55:01.6560 UTC gradient_boosted_trees.cc:1851] \"goss_beta\" set but \"sampling_method\" not equal to \"GOSS\".\n[WARNING 24-10-30 13:55:01.6560 UTC gradient_boosted_trees.cc:1865] \"selective_gradient_boosting_ratio\" set but \"sampling_method\" not equal to \"SELGB\".\n[INFO 24-10-30 13:55:02.5532 UTC kernel.cc:1233] Loading model from path /tmp/tmpjmwv2c2j/model/ with prefix ece7e8c4f87244bd\n[INFO 24-10-30 13:55:02.5669 UTC kernel.cc:1061] Use fast generic engine\n",
          "output_type": "stream"
        },
        {
          "name": "stdout",
          "text": "i:82\n",
          "output_type": "stream"
        },
        {
          "name": "stderr",
          "text": "[WARNING 24-10-30 13:55:03.1232 UTC gradient_boosted_trees.cc:1840] \"goss_alpha\" set but \"sampling_method\" not equal to \"GOSS\".\n[WARNING 24-10-30 13:55:03.1232 UTC gradient_boosted_trees.cc:1851] \"goss_beta\" set but \"sampling_method\" not equal to \"GOSS\".\n[WARNING 24-10-30 13:55:03.1233 UTC gradient_boosted_trees.cc:1865] \"selective_gradient_boosting_ratio\" set but \"sampling_method\" not equal to \"SELGB\".\n[INFO 24-10-30 13:55:03.9406 UTC kernel.cc:1233] Loading model from path /tmp/tmptoygd32r/model/ with prefix 65a4f77e510a44cc\n[INFO 24-10-30 13:55:03.9526 UTC kernel.cc:1061] Use fast generic engine\n",
          "output_type": "stream"
        },
        {
          "name": "stdout",
          "text": "i:83\n",
          "output_type": "stream"
        },
        {
          "name": "stderr",
          "text": "[WARNING 24-10-30 13:55:04.5000 UTC gradient_boosted_trees.cc:1840] \"goss_alpha\" set but \"sampling_method\" not equal to \"GOSS\".\n[WARNING 24-10-30 13:55:04.5000 UTC gradient_boosted_trees.cc:1851] \"goss_beta\" set but \"sampling_method\" not equal to \"GOSS\".\n[WARNING 24-10-30 13:55:04.5000 UTC gradient_boosted_trees.cc:1865] \"selective_gradient_boosting_ratio\" set but \"sampling_method\" not equal to \"SELGB\".\n[INFO 24-10-30 13:55:05.3099 UTC kernel.cc:1233] Loading model from path /tmp/tmp9ojflwby/model/ with prefix 576c9fe982614083\n[INFO 24-10-30 13:55:05.3203 UTC kernel.cc:1061] Use fast generic engine\n",
          "output_type": "stream"
        },
        {
          "name": "stdout",
          "text": "i:84\n",
          "output_type": "stream"
        },
        {
          "name": "stderr",
          "text": "[WARNING 24-10-30 13:55:05.8500 UTC gradient_boosted_trees.cc:1840] \"goss_alpha\" set but \"sampling_method\" not equal to \"GOSS\".\n[WARNING 24-10-30 13:55:05.8500 UTC gradient_boosted_trees.cc:1851] \"goss_beta\" set but \"sampling_method\" not equal to \"GOSS\".\n[WARNING 24-10-30 13:55:05.8500 UTC gradient_boosted_trees.cc:1865] \"selective_gradient_boosting_ratio\" set but \"sampling_method\" not equal to \"SELGB\".\n[INFO 24-10-30 13:55:06.8298 UTC kernel.cc:1233] Loading model from path /tmp/tmpjwb8uqj0/model/ with prefix 201ffa3407124c30\n[INFO 24-10-30 13:55:06.8485 UTC kernel.cc:1061] Use fast generic engine\n",
          "output_type": "stream"
        },
        {
          "name": "stdout",
          "text": "i:85\n",
          "output_type": "stream"
        },
        {
          "name": "stderr",
          "text": "[WARNING 24-10-30 13:55:07.3873 UTC gradient_boosted_trees.cc:1840] \"goss_alpha\" set but \"sampling_method\" not equal to \"GOSS\".\n[WARNING 24-10-30 13:55:07.3873 UTC gradient_boosted_trees.cc:1851] \"goss_beta\" set but \"sampling_method\" not equal to \"GOSS\".\n[WARNING 24-10-30 13:55:07.3873 UTC gradient_boosted_trees.cc:1865] \"selective_gradient_boosting_ratio\" set but \"sampling_method\" not equal to \"SELGB\".\n[INFO 24-10-30 13:55:08.0954 UTC kernel.cc:1233] Loading model from path /tmp/tmph2s46dna/model/ with prefix ebc682ae4ba54bc9\n[INFO 24-10-30 13:55:08.1026 UTC kernel.cc:1061] Use fast generic engine\n",
          "output_type": "stream"
        },
        {
          "name": "stdout",
          "text": "i:86\n",
          "output_type": "stream"
        },
        {
          "name": "stderr",
          "text": "[WARNING 24-10-30 13:55:08.6685 UTC gradient_boosted_trees.cc:1840] \"goss_alpha\" set but \"sampling_method\" not equal to \"GOSS\".\n[WARNING 24-10-30 13:55:08.6686 UTC gradient_boosted_trees.cc:1851] \"goss_beta\" set but \"sampling_method\" not equal to \"GOSS\".\n[WARNING 24-10-30 13:55:08.6686 UTC gradient_boosted_trees.cc:1865] \"selective_gradient_boosting_ratio\" set but \"sampling_method\" not equal to \"SELGB\".\n[INFO 24-10-30 13:55:09.7052 UTC kernel.cc:1233] Loading model from path /tmp/tmpk92_ceup/model/ with prefix 417226a251e44b94\n[INFO 24-10-30 13:55:09.7238 UTC quick_scorer_extended.cc:911] The binary was compiled without AVX2 support, but your CPU supports it. Enable it for faster model inference.\n[INFO 24-10-30 13:55:09.7254 UTC kernel.cc:1061] Use fast generic engine\n",
          "output_type": "stream"
        },
        {
          "name": "stdout",
          "text": "i:87\n",
          "output_type": "stream"
        },
        {
          "name": "stderr",
          "text": "[WARNING 24-10-30 13:55:10.2592 UTC gradient_boosted_trees.cc:1840] \"goss_alpha\" set but \"sampling_method\" not equal to \"GOSS\".\n[WARNING 24-10-30 13:55:10.2592 UTC gradient_boosted_trees.cc:1851] \"goss_beta\" set but \"sampling_method\" not equal to \"GOSS\".\n[WARNING 24-10-30 13:55:10.2593 UTC gradient_boosted_trees.cc:1865] \"selective_gradient_boosting_ratio\" set but \"sampling_method\" not equal to \"SELGB\".\n[INFO 24-10-30 13:55:11.2588 UTC kernel.cc:1233] Loading model from path /tmp/tmpavf_pw1v/model/ with prefix 3fd562a9786d4602\n[INFO 24-10-30 13:55:11.2791 UTC abstract_model.cc:1362] Engine \"GradientBoostedTreesQuickScorerExtended\" built\n[INFO 24-10-30 13:55:11.2791 UTC kernel.cc:1061] Use fast generic engine\n",
          "output_type": "stream"
        },
        {
          "name": "stdout",
          "text": "i:88\n",
          "output_type": "stream"
        },
        {
          "name": "stderr",
          "text": "[WARNING 24-10-30 13:55:11.7966 UTC gradient_boosted_trees.cc:1840] \"goss_alpha\" set but \"sampling_method\" not equal to \"GOSS\".\n[WARNING 24-10-30 13:55:11.7966 UTC gradient_boosted_trees.cc:1851] \"goss_beta\" set but \"sampling_method\" not equal to \"GOSS\".\n[WARNING 24-10-30 13:55:11.7966 UTC gradient_boosted_trees.cc:1865] \"selective_gradient_boosting_ratio\" set but \"sampling_method\" not equal to \"SELGB\".\n[INFO 24-10-30 13:55:12.6410 UTC kernel.cc:1233] Loading model from path /tmp/tmpw8t2ylu4/model/ with prefix fd8dae9cc79345cc\n[INFO 24-10-30 13:55:12.6538 UTC kernel.cc:1061] Use fast generic engine\n",
          "output_type": "stream"
        },
        {
          "name": "stdout",
          "text": "i:89\n",
          "output_type": "stream"
        },
        {
          "name": "stderr",
          "text": "[WARNING 24-10-30 13:55:13.1650 UTC gradient_boosted_trees.cc:1840] \"goss_alpha\" set but \"sampling_method\" not equal to \"GOSS\".\n[WARNING 24-10-30 13:55:13.1650 UTC gradient_boosted_trees.cc:1851] \"goss_beta\" set but \"sampling_method\" not equal to \"GOSS\".\n[WARNING 24-10-30 13:55:13.1650 UTC gradient_boosted_trees.cc:1865] \"selective_gradient_boosting_ratio\" set but \"sampling_method\" not equal to \"SELGB\".\n[INFO 24-10-30 13:55:13.8354 UTC kernel.cc:1233] Loading model from path /tmp/tmpsdo9dx88/model/ with prefix 31289dc79c9e4c2c\n[INFO 24-10-30 13:55:13.8413 UTC kernel.cc:1061] Use fast generic engine\n",
          "output_type": "stream"
        },
        {
          "name": "stdout",
          "text": "i:90\n",
          "output_type": "stream"
        },
        {
          "name": "stderr",
          "text": "[WARNING 24-10-30 13:55:14.3581 UTC gradient_boosted_trees.cc:1840] \"goss_alpha\" set but \"sampling_method\" not equal to \"GOSS\".\n[WARNING 24-10-30 13:55:14.3581 UTC gradient_boosted_trees.cc:1851] \"goss_beta\" set but \"sampling_method\" not equal to \"GOSS\".\n[WARNING 24-10-30 13:55:14.3581 UTC gradient_boosted_trees.cc:1865] \"selective_gradient_boosting_ratio\" set but \"sampling_method\" not equal to \"SELGB\".\n[INFO 24-10-30 13:55:15.1774 UTC kernel.cc:1233] Loading model from path /tmp/tmpmqkzlj1_/model/ with prefix 775795c38f1d4ef8\n[INFO 24-10-30 13:55:15.1888 UTC kernel.cc:1061] Use fast generic engine\n",
          "output_type": "stream"
        },
        {
          "name": "stdout",
          "text": "i:91\n",
          "output_type": "stream"
        },
        {
          "name": "stderr",
          "text": "[WARNING 24-10-30 13:55:15.7039 UTC gradient_boosted_trees.cc:1840] \"goss_alpha\" set but \"sampling_method\" not equal to \"GOSS\".\n[WARNING 24-10-30 13:55:15.7039 UTC gradient_boosted_trees.cc:1851] \"goss_beta\" set but \"sampling_method\" not equal to \"GOSS\".\n[WARNING 24-10-30 13:55:15.7039 UTC gradient_boosted_trees.cc:1865] \"selective_gradient_boosting_ratio\" set but \"sampling_method\" not equal to \"SELGB\".\n[INFO 24-10-30 13:55:16.4292 UTC kernel.cc:1233] Loading model from path /tmp/tmph6tmhhdw/model/ with prefix 6d2fa50c15eb4c29\n[INFO 24-10-30 13:55:16.4367 UTC kernel.cc:1061] Use fast generic engine\n",
          "output_type": "stream"
        },
        {
          "name": "stdout",
          "text": "i:92\n",
          "output_type": "stream"
        },
        {
          "name": "stderr",
          "text": "[WARNING 24-10-30 13:55:16.9442 UTC gradient_boosted_trees.cc:1840] \"goss_alpha\" set but \"sampling_method\" not equal to \"GOSS\".\n[WARNING 24-10-30 13:55:16.9443 UTC gradient_boosted_trees.cc:1851] \"goss_beta\" set but \"sampling_method\" not equal to \"GOSS\".\n[WARNING 24-10-30 13:55:16.9443 UTC gradient_boosted_trees.cc:1865] \"selective_gradient_boosting_ratio\" set but \"sampling_method\" not equal to \"SELGB\".\n[INFO 24-10-30 13:55:17.9603 UTC kernel.cc:1233] Loading model from path /tmp/tmpqcbg0qqr/model/ with prefix 810f5095991a4aa3\n[INFO 24-10-30 13:55:17.9801 UTC kernel.cc:1061] Use fast generic engine\n",
          "output_type": "stream"
        },
        {
          "name": "stdout",
          "text": "i:93\n",
          "output_type": "stream"
        },
        {
          "name": "stderr",
          "text": "[WARNING 24-10-30 13:55:18.4931 UTC gradient_boosted_trees.cc:1840] \"goss_alpha\" set but \"sampling_method\" not equal to \"GOSS\".\n[WARNING 24-10-30 13:55:18.4931 UTC gradient_boosted_trees.cc:1851] \"goss_beta\" set but \"sampling_method\" not equal to \"GOSS\".\n[WARNING 24-10-30 13:55:18.4931 UTC gradient_boosted_trees.cc:1865] \"selective_gradient_boosting_ratio\" set but \"sampling_method\" not equal to \"SELGB\".\n[INFO 24-10-30 13:55:19.3404 UTC kernel.cc:1233] Loading model from path /tmp/tmpue4bbh8g/model/ with prefix 89a53a1b340a45c6\n[INFO 24-10-30 13:55:19.3514 UTC kernel.cc:1061] Use fast generic engine\n",
          "output_type": "stream"
        },
        {
          "name": "stdout",
          "text": "i:94\n",
          "output_type": "stream"
        },
        {
          "name": "stderr",
          "text": "[WARNING 24-10-30 13:55:19.8534 UTC gradient_boosted_trees.cc:1840] \"goss_alpha\" set but \"sampling_method\" not equal to \"GOSS\".\n[WARNING 24-10-30 13:55:19.8534 UTC gradient_boosted_trees.cc:1851] \"goss_beta\" set but \"sampling_method\" not equal to \"GOSS\".\n[WARNING 24-10-30 13:55:19.8534 UTC gradient_boosted_trees.cc:1865] \"selective_gradient_boosting_ratio\" set but \"sampling_method\" not equal to \"SELGB\".\n[INFO 24-10-30 13:55:20.5704 UTC kernel.cc:1233] Loading model from path /tmp/tmpxlb4o01v/model/ with prefix 15e9e65477394d7c\n[INFO 24-10-30 13:55:20.5777 UTC kernel.cc:1061] Use fast generic engine\n",
          "output_type": "stream"
        },
        {
          "name": "stdout",
          "text": "i:95\n",
          "output_type": "stream"
        },
        {
          "name": "stderr",
          "text": "[WARNING 24-10-30 13:55:21.0900 UTC gradient_boosted_trees.cc:1840] \"goss_alpha\" set but \"sampling_method\" not equal to \"GOSS\".\n[WARNING 24-10-30 13:55:21.0901 UTC gradient_boosted_trees.cc:1851] \"goss_beta\" set but \"sampling_method\" not equal to \"GOSS\".\n[WARNING 24-10-30 13:55:21.0901 UTC gradient_boosted_trees.cc:1865] \"selective_gradient_boosting_ratio\" set but \"sampling_method\" not equal to \"SELGB\".\n[INFO 24-10-30 13:55:21.8494 UTC kernel.cc:1233] Loading model from path /tmp/tmp9r8ijasc/model/ with prefix 6a647f8b8e30482d\n[INFO 24-10-30 13:55:21.8587 UTC abstract_model.cc:1362] Engine \"GradientBoostedTreesQuickScorerExtended\" built\n[INFO 24-10-30 13:55:21.8587 UTC kernel.cc:1061] Use fast generic engine\n",
          "output_type": "stream"
        },
        {
          "name": "stdout",
          "text": "i:96\n",
          "output_type": "stream"
        },
        {
          "name": "stderr",
          "text": "[WARNING 24-10-30 13:55:22.3680 UTC gradient_boosted_trees.cc:1840] \"goss_alpha\" set but \"sampling_method\" not equal to \"GOSS\".\n[WARNING 24-10-30 13:55:22.3680 UTC gradient_boosted_trees.cc:1851] \"goss_beta\" set but \"sampling_method\" not equal to \"GOSS\".\n[WARNING 24-10-30 13:55:22.3680 UTC gradient_boosted_trees.cc:1865] \"selective_gradient_boosting_ratio\" set but \"sampling_method\" not equal to \"SELGB\".\n[INFO 24-10-30 13:55:23.1969 UTC kernel.cc:1233] Loading model from path /tmp/tmprgl3qqd1/model/ with prefix 414c110a6ac34278\n[INFO 24-10-30 13:55:23.2081 UTC kernel.cc:1061] Use fast generic engine\n",
          "output_type": "stream"
        },
        {
          "name": "stdout",
          "text": "i:97\n",
          "output_type": "stream"
        },
        {
          "name": "stderr",
          "text": "[WARNING 24-10-30 13:55:23.7177 UTC gradient_boosted_trees.cc:1840] \"goss_alpha\" set but \"sampling_method\" not equal to \"GOSS\".\n[WARNING 24-10-30 13:55:23.7178 UTC gradient_boosted_trees.cc:1851] \"goss_beta\" set but \"sampling_method\" not equal to \"GOSS\".\n[WARNING 24-10-30 13:55:23.7178 UTC gradient_boosted_trees.cc:1865] \"selective_gradient_boosting_ratio\" set but \"sampling_method\" not equal to \"SELGB\".\n[INFO 24-10-30 13:55:24.4133 UTC kernel.cc:1233] Loading model from path /tmp/tmpqffx6s15/model/ with prefix 8997d485888c4adf\n[INFO 24-10-30 13:55:24.4189 UTC kernel.cc:1061] Use fast generic engine\n",
          "output_type": "stream"
        },
        {
          "name": "stdout",
          "text": "i:98\n",
          "output_type": "stream"
        },
        {
          "name": "stderr",
          "text": "[WARNING 24-10-30 13:55:24.9587 UTC gradient_boosted_trees.cc:1840] \"goss_alpha\" set but \"sampling_method\" not equal to \"GOSS\".\n[WARNING 24-10-30 13:55:24.9587 UTC gradient_boosted_trees.cc:1851] \"goss_beta\" set but \"sampling_method\" not equal to \"GOSS\".\n[WARNING 24-10-30 13:55:24.9587 UTC gradient_boosted_trees.cc:1865] \"selective_gradient_boosting_ratio\" set but \"sampling_method\" not equal to \"SELGB\".\n[INFO 24-10-30 13:55:25.7713 UTC kernel.cc:1233] Loading model from path /tmp/tmpfl8utcki/model/ with prefix 72feb192a7164d11\n[INFO 24-10-30 13:55:25.7799 UTC kernel.cc:1061] Use fast generic engine\n",
          "output_type": "stream"
        },
        {
          "name": "stdout",
          "text": "i:99\n",
          "output_type": "stream"
        },
        {
          "name": "stderr",
          "text": "[WARNING 24-10-30 13:55:26.2940 UTC gradient_boosted_trees.cc:1840] \"goss_alpha\" set but \"sampling_method\" not equal to \"GOSS\".\n[WARNING 24-10-30 13:55:26.2940 UTC gradient_boosted_trees.cc:1851] \"goss_beta\" set but \"sampling_method\" not equal to \"GOSS\".\n[WARNING 24-10-30 13:55:26.2941 UTC gradient_boosted_trees.cc:1865] \"selective_gradient_boosting_ratio\" set but \"sampling_method\" not equal to \"SELGB\".\n[INFO 24-10-30 13:55:27.2430 UTC kernel.cc:1233] Loading model from path /tmp/tmprq1t_be7/model/ with prefix 70114fb527b540d7\n[INFO 24-10-30 13:55:27.2583 UTC kernel.cc:1061] Use fast generic engine\n",
          "output_type": "stream"
        },
        {
          "name": "stdout",
          "text": "Submission exported to /kaggle/working/submission.csv\n",
          "output_type": "stream"
        }
      ]
    }
  ]
}